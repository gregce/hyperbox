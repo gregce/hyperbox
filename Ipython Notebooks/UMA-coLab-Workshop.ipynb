{
  "worksheets": [
    {
      "cells": [
        {
          "cell_type": "markdown",
          "source": "<h1>coLaboratory Workshop: a very custom UMA dashboard</h1>"
        },
        {
          "cell_type": "code",
          "input": "import google3\nfrom google3.pyglib import gfile\nfrom google3.research.colab.lib import dremel\n\nimport pandas as pd\n%pylab inline",
          "outputs": [
            {
              "output_type": "stream",
              "text": "Populating the interactive namespace from numpy and matplotlib\n",
              "stream": "stdout"
            },
            {
              "output_type": "stream",
              "text": "WARNING: pylab import has clobbered these variables: ['f']\n`%matplotlib` prevents importing * from pylab and numpy\n",
              "stream": "stderr"
            }
          ],
          "language": "python",
          "metadata": {
            "cellView": null,
            "executionInfo": {
              "content": {
                "status": "ok",
                "user_variables": {},
                "execution_count": 29,
                "payload": [],
                "user_expressions": {}
              },
              "timestamp": 1412099488593,
              "user_tz": 240,
              "user": {
                "sessionId": "6f676d0333b0b34b",
                "userId": "115724376180809803482",
                "displayName": "Marcin Swiatek",
                "color": "#1FA15D",
                "isMe": true,
                "isAnonymous": false,
                "photoUrl": "//lh4.googleusercontent.com/-HoyQqGSZP0g/AAAAAAAAAAI/AAAAAAAAAHo/b_LSU47HIlQ/s50-c-k-no/photo.jpg"
              }
            }
          }
        },
        {
          "cell_type": "markdown",
          "source": "<h2>The example: feature usage and stability</h2>\nWe will build a visualisation showing how frequently some features are used and investigate if a particular Finch study has influence over that usage. Note that while the data is realistic, this is not a real study. We won't concern ourself with correctness but with the toolkit."
        },
        {
          "cell_type": "markdown",
          "source": "<h3>Exercise 1: basic dremel access</h3>"
        },
        {
          "cell_type": "code",
          "input": "%dremel_query DESCRIBE uma_logs.chrome_uma_heartbeat_histograms.20140922",
          "outputs": [
            {
              "text/html": "<span id=\"eltpbid_12\"></span>",
              "text/plain": "<IPython.core.display.HTML at 0xa9a1b90>",
              "output_type": "display_data",
              "metadata": {}
            },
            {
              "application/javascript": "$(\"#eltpbid_12\").append(\"<table id=tpbid_12 style=\\\"width:50%\\\"><tr><td id=pbid_12 style=\\\"background:blue;width:1%\\\"></td><td></br></table>\");",
              "text/plain": "<colabtools.interactive_util.Javascript at 0xa9a1f10>",
              "output_type": "display_data",
              "metadata": {
                "application/javascript": {
                  "ephemeral": true
                }
              }
            },
            {
              "text/html": "<span id=infoid_13><span id=infoid_13_value> Query has not been executed in this session yet. Below is result from past run  </span> </span>",
              "text/plain": "<IPython.core.display.HTML at 0xa9a1190>",
              "output_type": "display_data",
              "metadata": {}
            },
            {
              "application/javascript": "$(\"#infoid_13_value\")[0].innerHTML = \"complete: 0% \"; ",
              "text/plain": "<colabtools.interactive_util.Javascript at 0xa9a1a50>",
              "output_type": "display_data",
              "metadata": {
                "application/javascript": {
                  "ephemeral": true
                }
              }
            },
            {
              "output_type": "stream",
              "text": "Query finished executing.\n",
              "stream": "stdout"
            },
            {
              "application/javascript": "$(\"#pbid_12\")[0].style.width=\"101%\";",
              "text/plain": "<colabtools.interactive_util.Javascript at 0xa9a1f50>",
              "output_type": "display_data",
              "metadata": {
                "application/javascript": {
                  "ephemeral": true
                }
              }
            },
            {
              "application/javascript": "$(\"#infoid_13_value\")[0].innerHTML = \"complete: 100% Done!\"; ",
              "text/plain": "<colabtools.interactive_util.Javascript at 0xa9a1750>",
              "output_type": "display_data",
              "metadata": {
                "application/javascript": {
                  "ephemeral": true
                }
              }
            },
            {
              "application/javascript": "$(\"#tpbid_12\")[0].remove()",
              "text/plain": "<colabtools.interactive_util.Javascript at 0xa9a1750>",
              "output_type": "display_data",
              "metadata": {
                "application/javascript": {
                  "ephemeral": true
                }
              }
            },
            {
              "output_type": "stream",
              "text": "Received  10  rows from dremel.\n",
              "stream": "stdout"
            },
            {
              "text/html": "<div style=\"max-height:1000px;max-width:1500px;overflow:auto;\">\n<table border=\"1\" class=\"dataframe\">\n  <thead>\n    <tr style=\"text-align: right;\">\n      <th></th>\n      <th>field_name</th>\n      <th>field_alias</th>\n      <th>field_type</th>\n      <th>field_label</th>\n    </tr>\n  </thead>\n  <tbody>\n    <tr>\n      <th>0</th>\n      <td>              C</td>\n      <td>              C</td>\n      <td>  int64</td>\n      <td> optional</td>\n    </tr>\n    <tr>\n      <th>1</th>\n      <td>           bmax</td>\n      <td>           bmax</td>\n      <td>  int64</td>\n      <td> optional</td>\n    </tr>\n    <tr>\n      <th>2</th>\n      <td>           bmin</td>\n      <td>           bmin</td>\n      <td>  int64</td>\n      <td> optional</td>\n    </tr>\n    <tr>\n      <th>3</th>\n      <td>         bucket</td>\n      <td>         bucket</td>\n      <td> uint32</td>\n      <td> optional</td>\n    </tr>\n    <tr>\n      <th>4</th>\n      <td>        channel</td>\n      <td>        channel</td>\n      <td>  int32</td>\n      <td> optional</td>\n    </tr>\n    <tr>\n      <th>5</th>\n      <td>          group</td>\n      <td>          group</td>\n      <td> uint32</td>\n      <td> optional</td>\n    </tr>\n    <tr>\n      <th>6</th>\n      <td> histogram_hash</td>\n      <td> histogram_hash</td>\n      <td> uint64</td>\n      <td> optional</td>\n    </tr>\n    <tr>\n      <th>7</th>\n      <td>      milestone</td>\n      <td>      milestone</td>\n      <td> string</td>\n      <td> optional</td>\n    </tr>\n    <tr>\n      <th>8</th>\n      <td>       platform</td>\n      <td>       platform</td>\n      <td> string</td>\n      <td> optional</td>\n    </tr>\n    <tr>\n      <th>9</th>\n      <td>          study</td>\n      <td>          study</td>\n      <td> uint32</td>\n      <td> optional</td>\n    </tr>\n  </tbody>\n</table>\n<p>10 rows \u00d7 4 columns</p>\n</div>",
              "text/plain": "       field_name     field_alias field_type field_label\n0               C               C      int64    optional\n1            bmax            bmax      int64    optional\n2            bmin            bmin      int64    optional\n3          bucket          bucket     uint32    optional\n4         channel         channel      int32    optional\n5           group           group     uint32    optional\n6  histogram_hash  histogram_hash     uint64    optional\n7       milestone       milestone     string    optional\n8        platform        platform     string    optional\n9           study           study     uint32    optional\n\n[10 rows x 4 columns]",
              "prompt_number": 30,
              "output_type": "pyout",
              "metadata": {}
            }
          ],
          "language": "python",
          "metadata": {
            "cellView": null,
            "executionInfo": {
              "content": {
                "status": "ok",
                "user_variables": {},
                "execution_count": 30,
                "payload": [],
                "user_expressions": {}
              },
              "timestamp": 1412099489920,
              "user_tz": 240,
              "user": {
                "sessionId": "6f676d0333b0b34b",
                "userId": "115724376180809803482",
                "displayName": "Marcin Swiatek",
                "color": "#1FA15D",
                "isMe": true,
                "isAnonymous": false,
                "photoUrl": "//lh4.googleusercontent.com/-HoyQqGSZP0g/AAAAAAAAAAI/AAAAAAAAAHo/b_LSU47HIlQ/s50-c-k-no/photo.jpg"
              }
            }
          }
        },
        {
          "cell_type": "code",
          "input": "head_result = %dremel_query SELECT * FROM uma_logs.chrome_uma_heartbeat_histograms.20140922 LIMIT 10\nrow_count = %dremel_query SELECT COUNT(*) AS C FROM uma_logs.chrome_uma_heartbeat_histograms.20140922\n\nprint '\\nIn total we have %d rows\\n\\n' % row_count.C\nhead_result",
          "outputs": [
            {
              "text/html": "<span id=\"eltpbid_14\"></span>",
              "text/plain": "<IPython.core.display.HTML at 0xa9a1310>",
              "output_type": "display_data",
              "metadata": {}
            },
            {
              "application/javascript": "$(\"#eltpbid_14\").append(\"<table id=tpbid_14 style=\\\"width:50%\\\"><tr><td id=pbid_14 style=\\\"background:blue;width:1%\\\"></td><td></br></table>\");",
              "text/plain": "<colabtools.interactive_util.Javascript at 0xa9a1310>",
              "output_type": "display_data",
              "metadata": {
                "application/javascript": {
                  "ephemeral": true
                }
              }
            },
            {
              "text/html": "<span id=infoid_15><span id=infoid_15_value> Query has not been executed in this session yet. Below is result from past run  </span> </span>",
              "text/plain": "<IPython.core.display.HTML at 0xa9a1150>",
              "output_type": "display_data",
              "metadata": {}
            },
            {
              "application/javascript": "$(\"#infoid_15_value\")[0].innerHTML = \"complete: 0% \"; ",
              "text/plain": "<colabtools.interactive_util.Javascript at 0xa9a1790>",
              "output_type": "display_data",
              "metadata": {
                "application/javascript": {
                  "ephemeral": true
                }
              }
            },
            {
              "output_type": "stream",
              "text": "Query finished executing.\n",
              "stream": "stdout"
            },
            {
              "application/javascript": "$(\"#pbid_14\")[0].style.width=\"101%\";",
              "text/plain": "<colabtools.interactive_util.Javascript at 0xa9a1790>",
              "output_type": "display_data",
              "metadata": {
                "application/javascript": {
                  "ephemeral": true
                }
              }
            },
            {
              "application/javascript": "$(\"#infoid_15_value\")[0].innerHTML = \"complete: 100% Done!\"; ",
              "text/plain": "<colabtools.interactive_util.Javascript at 0xa9a1310>",
              "output_type": "display_data",
              "metadata": {
                "application/javascript": {
                  "ephemeral": true
                }
              }
            },
            {
              "application/javascript": "$(\"#tpbid_14\")[0].remove()",
              "text/plain": "<colabtools.interactive_util.Javascript at 0xa9a1410>",
              "output_type": "display_data",
              "metadata": {
                "application/javascript": {
                  "ephemeral": true
                }
              }
            },
            {
              "output_type": "stream",
              "text": "Received  10  rows from dremel.\n",
              "stream": "stdout"
            },
            {
              "text/html": "<span id=\"eltpbid_16\"></span>",
              "text/plain": "<IPython.core.display.HTML at 0xa9a1390>",
              "output_type": "display_data",
              "metadata": {}
            },
            {
              "application/javascript": "$(\"#eltpbid_16\").append(\"<table id=tpbid_16 style=\\\"width:50%\\\"><tr><td id=pbid_16 style=\\\"background:blue;width:1%\\\"></td><td></br></table>\");",
              "text/plain": "<colabtools.interactive_util.Javascript at 0xa9a1850>",
              "output_type": "display_data",
              "metadata": {
                "application/javascript": {
                  "ephemeral": true
                }
              }
            },
            {
              "text/html": "<span id=infoid_17><span id=infoid_17_value> Query has not been executed in this session yet. Below is result from past run  </span> </span>",
              "text/plain": "<IPython.core.display.HTML at 0xa9a1410>",
              "output_type": "display_data",
              "metadata": {}
            },
            {
              "application/javascript": "$(\"#infoid_17_value\")[0].innerHTML = \"complete: 0% \"; ",
              "text/plain": "<colabtools.interactive_util.Javascript at 0xa9a1150>",
              "output_type": "display_data",
              "metadata": {
                "application/javascript": {
                  "ephemeral": true
                }
              }
            },
            {
              "output_type": "stream",
              "text": "Query finished executing.\n",
              "stream": "stdout"
            },
            {
              "application/javascript": "$(\"#pbid_16\")[0].style.width=\"101%\";",
              "text/plain": "<colabtools.interactive_util.Javascript at 0x787ad90>",
              "output_type": "display_data",
              "metadata": {
                "application/javascript": {
                  "ephemeral": true
                }
              }
            },
            {
              "application/javascript": "$(\"#infoid_17_value\")[0].innerHTML = \"complete: 100% Done!\"; ",
              "text/plain": "<colabtools.interactive_util.Javascript at 0x787ad90>",
              "output_type": "display_data",
              "metadata": {
                "application/javascript": {
                  "ephemeral": true
                }
              }
            },
            {
              "application/javascript": "$(\"#tpbid_16\")[0].remove()",
              "text/plain": "<colabtools.interactive_util.Javascript at 0x787a490>",
              "output_type": "display_data",
              "metadata": {
                "application/javascript": {
                  "ephemeral": true
                }
              }
            },
            {
              "output_type": "stream",
              "text": "Received  1  rows from dremel.\n\nIn total we have 73761944 rows\n\n\n",
              "stream": "stdout"
            },
            {
              "text/html": "<div style=\"max-height:1000px;max-width:1500px;overflow:auto;\">\n<table border=\"1\" class=\"dataframe\">\n  <thead>\n    <tr style=\"text-align: right;\">\n      <th></th>\n      <th>bmax</th>\n      <th>bmin</th>\n      <th>bucket</th>\n      <th>C</th>\n      <th>channel</th>\n      <th>group</th>\n      <th>histogram_hash</th>\n      <th>milestone</th>\n      <th>platform</th>\n      <th>study</th>\n    </tr>\n  </thead>\n  <tbody>\n    <tr>\n      <th>0</th>\n      <td>  62988</td>\n      <td>  55338</td>\n      <td>  5</td>\n      <td> 1292630</td>\n      <td> 4</td>\n      <td> 2723573767</td>\n      <td> 16503475437272371215</td>\n      <td> 37</td>\n      <td> W</td>\n      <td> 3339207112</td>\n    </tr>\n    <tr>\n      <th>1</th>\n      <td>  37526</td>\n      <td>  32969</td>\n      <td> 13</td>\n      <td>  389706</td>\n      <td> 4</td>\n      <td> 4174344418</td>\n      <td> 16503475437272371215</td>\n      <td> 37</td>\n      <td> A</td>\n      <td> 2992710434</td>\n    </tr>\n    <tr>\n      <th>2</th>\n      <td>  48617</td>\n      <td>  42713</td>\n      <td> 13</td>\n      <td>   17452</td>\n      <td> 4</td>\n      <td> 1275539796</td>\n      <td> 16503475437272371215</td>\n      <td> 37</td>\n      <td> A</td>\n      <td> 3803284609</td>\n    </tr>\n    <tr>\n      <th>3</th>\n      <td> 120342</td>\n      <td> 105727</td>\n      <td> 13</td>\n      <td>   74750</td>\n      <td> 4</td>\n      <td> 1061820383</td>\n      <td> 16503475437272371215</td>\n      <td> 37</td>\n      <td> A</td>\n      <td> 3873527168</td>\n    </tr>\n    <tr>\n      <th>4</th>\n      <td> 201998</td>\n      <td> 177466</td>\n      <td>  2</td>\n      <td>  486160</td>\n      <td> 4</td>\n      <td> 3644458528</td>\n      <td> 16503475437272371215</td>\n      <td> 37</td>\n      <td> W</td>\n      <td>  425517493</td>\n    </tr>\n    <tr>\n      <th>5</th>\n      <td>  48617</td>\n      <td>  42713</td>\n      <td>  2</td>\n      <td>  264702</td>\n      <td> 4</td>\n      <td> 2776770659</td>\n      <td> 16503475437272371215</td>\n      <td> 37</td>\n      <td> W</td>\n      <td> 1978724512</td>\n    </tr>\n    <tr>\n      <th>6</th>\n      <td>   3649</td>\n      <td>   3206</td>\n      <td>  2</td>\n      <td>   90471</td>\n      <td> 4</td>\n      <td> 3397225856</td>\n      <td> 16503475437272371215</td>\n      <td> 37</td>\n      <td> W</td>\n      <td> 2536955537</td>\n    </tr>\n    <tr>\n      <th>7</th>\n      <td> 297881</td>\n      <td> 261704</td>\n      <td>  2</td>\n      <td>  340921</td>\n      <td> 4</td>\n      <td> 3397225856</td>\n      <td> 16503475437272371215</td>\n      <td> 37</td>\n      <td> W</td>\n      <td> 2536955537</td>\n    </tr>\n    <tr>\n      <th>8</th>\n      <td>  28965</td>\n      <td>  25447</td>\n      <td>  2</td>\n      <td> 1228726</td>\n      <td> 4</td>\n      <td> 1061820383</td>\n      <td> 16503475437272371215</td>\n      <td> 37</td>\n      <td> W</td>\n      <td> 3639964978</td>\n    </tr>\n    <tr>\n      <th>9</th>\n      <td> 201998</td>\n      <td> 177466</td>\n      <td>  2</td>\n      <td>  520059</td>\n      <td> 4</td>\n      <td> 1061820383</td>\n      <td> 16503475437272371215</td>\n      <td> 37</td>\n      <td> W</td>\n      <td> 3639964978</td>\n    </tr>\n  </tbody>\n</table>\n<p>10 rows \u00d7 10 columns</p>\n</div>",
              "text/plain": "     bmax    bmin  bucket        C  channel       group        histogram_hash  \\\n0   62988   55338       5  1292630        4  2723573767  16503475437272371215   \n1   37526   32969      13   389706        4  4174344418  16503475437272371215   \n2   48617   42713      13    17452        4  1275539796  16503475437272371215   \n3  120342  105727      13    74750        4  1061820383  16503475437272371215   \n4  201998  177466       2   486160        4  3644458528  16503475437272371215   \n5   48617   42713       2   264702        4  2776770659  16503475437272371215   \n6    3649    3206       2    90471        4  3397225856  16503475437272371215   \n7  297881  261704       2   340921        4  3397225856  16503475437272371215   \n8   28965   25447       2  1228726        4  1061820383  16503475437272371215   \n9  201998  177466       2   520059        4  1061820383  16503475437272371215   \n\n  milestone platform       study  \n0        37        W  3339207112  \n1        37        A  2992710434  \n2        37        A  3803284609  \n3        37        A  3873527168  \n4        37        W   425517493  \n5        37        W  1978724512  \n6        37        W  2536955537  \n7        37        W  2536955537  \n8        37        W  3639964978  \n9        37        W  3639964978  \n\n[10 rows x 10 columns]",
              "prompt_number": 31,
              "output_type": "pyout",
              "metadata": {}
            }
          ],
          "language": "python",
          "metadata": {
            "cellView": null,
            "executionInfo": {
              "content": {
                "status": "ok",
                "user_variables": {},
                "execution_count": 31,
                "payload": [],
                "user_expressions": {}
              },
              "timestamp": 1412099491107,
              "user_tz": 240,
              "user": {
                "sessionId": "6f676d0333b0b34b",
                "userId": "115724376180809803482",
                "displayName": "Marcin Swiatek",
                "color": "#1FA15D",
                "isMe": true,
                "isAnonymous": false,
                "photoUrl": "//lh4.googleusercontent.com/-HoyQqGSZP0g/AAAAAAAAAAI/AAAAAAAAAHo/b_LSU47HIlQ/s50-c-k-no/photo.jpg"
              }
            }
          }
        },
        {
          "cell_type": "markdown",
          "source": "<h2>Exercise 2: a more complex query</h2>\nIn this section I will show you my favorite way of constructing more complex queries."
        },
        {
          "cell_type": "code",
          "input": "# Some ready tool (and a pattern for code reuse)\n%run /home/build/google3/experimental/users/motek/uma-notebook-tools/hashing_functions.py",
          "outputs": [],
          "language": "python",
          "metadata": {
            "cellView": null,
            "executionInfo": {
              "content": {
                "status": "ok",
                "user_variables": {},
                "execution_count": 32,
                "payload": [],
                "user_expressions": {}
              },
              "timestamp": 1412099494837,
              "user_tz": 240,
              "user": {
                "sessionId": "6f676d0333b0b34b",
                "userId": "115724376180809803482",
                "displayName": "Marcin Swiatek",
                "color": "#1FA15D",
                "isMe": true,
                "isAnonymous": false,
                "photoUrl": "//lh4.googleusercontent.com/-HoyQqGSZP0g/AAAAAAAAAAI/AAAAAAAAAHo/b_LSU47HIlQ/s50-c-k-no/photo.jpg"
              }
            }
          }
        },
        {
          "cell_type": "code",
          "input": "HISTOGRAM_QUERY_TEMPLATE = \"\"\"\nSELECT\n  group, platform, INT32(milestone) as mstone, channel, bmin, bmax, SUM(C) as N\nFROM\n  uma_logs.chrome_uma_heartbeat_histograms.{date}\nWHERE\n  histogram_hash == {histogram} AND\n  study == {study}\nGROUP BY group, platform, mstone, channel, bmin, bmax\nHAVING mstone >= {min_ver}\n\"\"\"\n\nquery = HISTOGRAM_QUERY_TEMPLATE.format(date='20140920',\n                                        histogram=HistogramHash('UserActions.Counts'),\n                                        study='0x'+StudyHash('QUIC'),\n                                        min_ver=36)\nprint query\n\nD = %dremel_query $query\nD.head()",
          "outputs": [
            {
              "output_type": "stream",
              "text": "\nSELECT\n  group, platform, INT32(milestone) as mstone, channel, bmin, bmax, SUM(C) as N\nFROM\n  uma_logs.chrome_uma_heartbeat_histograms.20140920\nWHERE\n  histogram_hash == 0x96d55faaeb560a55 AND\n  study == 0x4ea303a6\nGROUP BY group, platform, mstone, channel, bmin, bmax\nHAVING mstone >= 36\n\n",
              "stream": "stdout"
            },
            {
              "text/html": "<span id=\"eltpbid_18\"></span>",
              "text/plain": "<IPython.core.display.HTML at 0x787abd0>",
              "output_type": "display_data",
              "metadata": {}
            },
            {
              "application/javascript": "$(\"#eltpbid_18\").append(\"<table id=tpbid_18 style=\\\"width:50%\\\"><tr><td id=pbid_18 style=\\\"background:blue;width:1%\\\"></td><td></br></table>\");",
              "text/plain": "<colabtools.interactive_util.Javascript at 0xa9a1510>",
              "output_type": "display_data",
              "metadata": {
                "application/javascript": {
                  "ephemeral": true
                }
              }
            },
            {
              "text/html": "<span id=infoid_19><span id=infoid_19_value> Query has not been executed in this session yet. Below is result from past run  </span> </span>",
              "text/plain": "<IPython.core.display.HTML at 0x787a390>",
              "output_type": "display_data",
              "metadata": {}
            },
            {
              "application/javascript": "$(\"#infoid_19_value\")[0].innerHTML = \"complete: 0% \"; ",
              "text/plain": "<colabtools.interactive_util.Javascript at 0x787a810>",
              "output_type": "display_data",
              "metadata": {
                "application/javascript": {
                  "ephemeral": true
                }
              }
            },
            {
              "application/javascript": "$(\"#pbid_18\")[0].style.width=\"84%\";",
              "text/plain": "<colabtools.interactive_util.Javascript at 0x787a810>",
              "output_type": "display_data",
              "metadata": {
                "application/javascript": {
                  "ephemeral": true
                }
              }
            },
            {
              "application/javascript": "$(\"#infoid_19_value\")[0].innerHTML = \"complete: 83% execution_time: 1.228121\\nnum_sources: 100\\nnum_good_sources: 83\\n\"; ",
              "text/plain": "<colabtools.interactive_util.Javascript at 0x787a750>",
              "output_type": "display_data",
              "metadata": {
                "application/javascript": {
                  "ephemeral": true
                }
              }
            },
            {
              "output_type": "stream",
              "text": "Query finished executing.\n",
              "stream": "stdout"
            },
            {
              "application/javascript": "$(\"#pbid_18\")[0].style.width=\"101%\";",
              "text/plain": "<colabtools.interactive_util.Javascript at 0x787aad0>",
              "output_type": "display_data",
              "metadata": {
                "application/javascript": {
                  "ephemeral": true
                }
              }
            },
            {
              "application/javascript": "$(\"#infoid_19_value\")[0].innerHTML = \"complete: 100% Done!\"; ",
              "text/plain": "<colabtools.interactive_util.Javascript at 0x787af10>",
              "output_type": "display_data",
              "metadata": {
                "application/javascript": {
                  "ephemeral": true
                }
              }
            },
            {
              "application/javascript": "$(\"#tpbid_18\")[0].remove()",
              "text/plain": "<colabtools.interactive_util.Javascript at 0x787af10>",
              "output_type": "display_data",
              "metadata": {
                "application/javascript": {
                  "ephemeral": true
                }
              }
            },
            {
              "output_type": "stream",
              "text": "Received  60178  rows from dremel.\n",
              "stream": "stdout"
            },
            {
              "text/html": "<div style=\"max-height:1000px;max-width:1500px;overflow:auto;\">\n<table border=\"1\" class=\"dataframe\">\n  <thead>\n    <tr style=\"text-align: right;\">\n      <th></th>\n      <th>group</th>\n      <th>platform</th>\n      <th>mstone</th>\n      <th>channel</th>\n      <th>bmin</th>\n      <th>bmax</th>\n      <th>N</th>\n    </tr>\n  </thead>\n  <tbody>\n    <tr>\n      <th>0</th>\n      <td> 1028125940</td>\n      <td> i</td>\n      <td> 37</td>\n      <td> 4</td>\n      <td>  511519390</td>\n      <td>  511519391</td>\n      <td> 72197487</td>\n    </tr>\n    <tr>\n      <th>1</th>\n      <td> 1028125940</td>\n      <td> i</td>\n      <td> 37</td>\n      <td> 4</td>\n      <td>  302750844</td>\n      <td>  302750845</td>\n      <td>  4208286</td>\n    </tr>\n    <tr>\n      <th>2</th>\n      <td> 3481978854</td>\n      <td> i</td>\n      <td> 37</td>\n      <td> 4</td>\n      <td>  524603679</td>\n      <td>  524603680</td>\n      <td>   110335</td>\n    </tr>\n    <tr>\n      <th>3</th>\n      <td> 1028125940</td>\n      <td> i</td>\n      <td> 37</td>\n      <td> 4</td>\n      <td>  610732026</td>\n      <td>  610732027</td>\n      <td>   170735</td>\n    </tr>\n    <tr>\n      <th>4</th>\n      <td> 1028125940</td>\n      <td> i</td>\n      <td> 37</td>\n      <td> 4</td>\n      <td> 1350861318</td>\n      <td> 1350861319</td>\n      <td>  3578460</td>\n    </tr>\n  </tbody>\n</table>\n<p>5 rows \u00d7 7 columns</p>\n</div>",
              "text/plain": "        group platform  mstone  channel        bmin        bmax         N\n0  1028125940        i      37        4   511519390   511519391  72197487\n1  1028125940        i      37        4   302750844   302750845   4208286\n2  3481978854        i      37        4   524603679   524603680    110335\n3  1028125940        i      37        4   610732026   610732027    170735\n4  1028125940        i      37        4  1350861318  1350861319   3578460\n\n[5 rows x 7 columns]",
              "prompt_number": 33,
              "output_type": "pyout",
              "metadata": {}
            }
          ],
          "language": "python",
          "metadata": {
            "cellView": null,
            "executionInfo": {
              "content": {
                "status": "ok",
                "user_variables": {},
                "execution_count": 33,
                "payload": [],
                "user_expressions": {}
              },
              "timestamp": 1412099495015,
              "user_tz": 240,
              "user": {
                "sessionId": "6f676d0333b0b34b",
                "userId": "115724376180809803482",
                "displayName": "Marcin Swiatek",
                "color": "#1FA15D",
                "isMe": true,
                "isAnonymous": false,
                "photoUrl": "//lh4.googleusercontent.com/-HoyQqGSZP0g/AAAAAAAAAAI/AAAAAAAAAHo/b_LSU47HIlQ/s50-c-k-no/photo.jpg"
              }
            }
          }
        },
        {
          "cell_type": "markdown",
          "source": "Now we have considerably fewer records, but there is still tens of thousands of them. The particular histogram we are looking at (_UserActions.Counts_) is rather special:\n<ul>\n<li>It is articifially constructed.\n<li>Each bin corresponds to a particular action type.\n<li><code>bmin</code> is the name hash, while <code>bmax</code> is just <code>bmin+1</code>\n</ul>\n\nJust to make sure this is all the case, we will explore <code>bmin/bmax</code> and learn some __pandas-foo__ in the process."
        },
        {
          "cell_type": "code",
          "input": "s = D.bmax - D.bmin\nprint s.unique()\n# Since bmax is redundant, we'll just drop it.\ndel D['bmax']\nprint '\\n\\nUnique action names: %d\\n' % len(D.bmin.unique())\nD.head()",
          "outputs": [
            {
              "output_type": "stream",
              "text": "[1]\n\n\nUnique action names: 1135\n\n",
              "stream": "stdout"
            },
            {
              "text/html": "<div style=\"max-height:1000px;max-width:1500px;overflow:auto;\">\n<table border=\"1\" class=\"dataframe\">\n  <thead>\n    <tr style=\"text-align: right;\">\n      <th></th>\n      <th>group</th>\n      <th>platform</th>\n      <th>mstone</th>\n      <th>channel</th>\n      <th>bmin</th>\n      <th>N</th>\n    </tr>\n  </thead>\n  <tbody>\n    <tr>\n      <th>0</th>\n      <td> 1028125940</td>\n      <td> i</td>\n      <td> 37</td>\n      <td> 4</td>\n      <td>  511519390</td>\n      <td> 72197487</td>\n    </tr>\n    <tr>\n      <th>1</th>\n      <td> 1028125940</td>\n      <td> i</td>\n      <td> 37</td>\n      <td> 4</td>\n      <td>  302750844</td>\n      <td>  4208286</td>\n    </tr>\n    <tr>\n      <th>2</th>\n      <td> 3481978854</td>\n      <td> i</td>\n      <td> 37</td>\n      <td> 4</td>\n      <td>  524603679</td>\n      <td>   110335</td>\n    </tr>\n    <tr>\n      <th>3</th>\n      <td> 1028125940</td>\n      <td> i</td>\n      <td> 37</td>\n      <td> 4</td>\n      <td>  610732026</td>\n      <td>   170735</td>\n    </tr>\n    <tr>\n      <th>4</th>\n      <td> 1028125940</td>\n      <td> i</td>\n      <td> 37</td>\n      <td> 4</td>\n      <td> 1350861318</td>\n      <td>  3578460</td>\n    </tr>\n  </tbody>\n</table>\n<p>5 rows \u00d7 6 columns</p>\n</div>",
              "text/plain": "        group platform  mstone  channel        bmin         N\n0  1028125940        i      37        4   511519390  72197487\n1  1028125940        i      37        4   302750844   4208286\n2  3481978854        i      37        4   524603679    110335\n3  1028125940        i      37        4   610732026    170735\n4  1028125940        i      37        4  1350861318   3578460\n\n[5 rows x 6 columns]",
              "prompt_number": 34,
              "output_type": "pyout",
              "metadata": {}
            }
          ],
          "language": "python",
          "metadata": {
            "cellView": null,
            "executionInfo": {
              "content": {
                "status": "ok",
                "user_variables": {},
                "execution_count": 34,
                "payload": [],
                "user_expressions": {}
              },
              "timestamp": 1412099508521,
              "user_tz": 240,
              "user": {
                "sessionId": "6f676d0333b0b34b",
                "userId": "115724376180809803482",
                "displayName": "Marcin Swiatek",
                "color": "#1FA15D",
                "isMe": true,
                "isAnonymous": false,
                "photoUrl": "//lh4.googleusercontent.com/-HoyQqGSZP0g/AAAAAAAAAAI/AAAAAAAAAHo/b_LSU47HIlQ/s50-c-k-no/photo.jpg"
              }
            }
          }
        },
        {
          "cell_type": "code",
          "input": "# Ultimately, following metrics may be of interes to us. Incidentally, these are only histograms the table we use has, anyway.\nKNOWN_METRICS = ['PLT.RequestToFinish',\n                 'GoogleSearch.AccessPoint',\n                 'NewTabPage.MostVisited',\n                 'Memory.Browser',\n                 'Memory.Renderer',\n                 'Signin.AllAccessPointActions',\n                 'UserActions.Counts',\n                 'Stability.Counts']\n\nimport json\nwith gfile.GFile('/cns/pa-d/home/uma-colaboratory-workshop/histograms.json', 'r') as f:\n  histograms = json.load(f)\n  histograms = {n: histograms[n] for n in KNOWN_METRICS}\n\nprint histograms['UserActions.Counts'].keys()",
          "outputs": [
            {
              "output_type": "stream",
              "text": "[u'summary', u'enum', u'owners']\n",
              "stream": "stdout"
            }
          ],
          "language": "python",
          "metadata": {
            "cellView": null,
            "executionInfo": {
              "content": {
                "status": "ok",
                "user_variables": {},
                "execution_count": 35,
                "payload": [],
                "user_expressions": {}
              },
              "timestamp": 1412099508815,
              "user_tz": 240,
              "user": {
                "sessionId": "6f676d0333b0b34b",
                "userId": "115724376180809803482",
                "displayName": "Marcin Swiatek",
                "color": "#1FA15D",
                "isMe": true,
                "isAnonymous": false,
                "photoUrl": "//lh4.googleusercontent.com/-HoyQqGSZP0g/AAAAAAAAAAI/AAAAAAAAAHo/b_LSU47HIlQ/s50-c-k-no/photo.jpg"
              }
            }
          }
        },
        {
          "cell_type": "code",
          "input": "# We can find out action names in metadata of UserActions.Counts\naction_dictionary = histograms['UserActions.Counts']['enum']['values']\n\n# The dictionary is not quite in the form we want it. It was extracted from json, so it is text->dictionary.\naction_dictionary = {int(key): value['label'] for key, value in action_dictionary.iteritems()}\nprint len(action_dictionary)\nprint action_dictionary[1443298861]",
          "outputs": [
            {
              "output_type": "stream",
              "text": "2202\nMobileFocusedOmniboxNotOnNtp\n",
              "stream": "stdout"
            }
          ],
          "language": "python",
          "metadata": {
            "cellView": null,
            "executionInfo": {
              "content": {
                "status": "ok",
                "user_variables": {},
                "execution_count": 36,
                "payload": [],
                "user_expressions": {}
              },
              "timestamp": 1412099509275,
              "user_tz": 240,
              "user": {
                "sessionId": "6f676d0333b0b34b",
                "userId": "115724376180809803482",
                "displayName": "Marcin Swiatek",
                "color": "#1FA15D",
                "isMe": true,
                "isAnonymous": false,
                "photoUrl": "//lh4.googleusercontent.com/-HoyQqGSZP0g/AAAAAAAAAAI/AAAAAAAAAHo/b_LSU47HIlQ/s50-c-k-no/photo.jpg"
              }
            }
          }
        },
        {
          "cell_type": "markdown",
          "source": "<h2>Exercise 3: pandas for data wrangling</h2>"
        },
        {
          "cell_type": "code",
          "input": "# Seems to be working. Now lets join these names with the data frame D.\nD['action'] = [action_dictionary[a] for a in D.bmin]\ndel D['bmin']\n\nD.head()",
          "outputs": [
            {
              "text/html": "<div style=\"max-height:1000px;max-width:1500px;overflow:auto;\">\n<table border=\"1\" class=\"dataframe\">\n  <thead>\n    <tr style=\"text-align: right;\">\n      <th></th>\n      <th>group</th>\n      <th>platform</th>\n      <th>mstone</th>\n      <th>channel</th>\n      <th>N</th>\n      <th>action</th>\n    </tr>\n  </thead>\n  <tbody>\n    <tr>\n      <th>0</th>\n      <td> 1028125940</td>\n      <td> i</td>\n      <td> 37</td>\n      <td> 4</td>\n      <td> 72197487</td>\n      <td>                 MobileTabClobbered</td>\n    </tr>\n    <tr>\n      <th>1</th>\n      <td> 1028125940</td>\n      <td> i</td>\n      <td> 37</td>\n      <td> 4</td>\n      <td>  4208286</td>\n      <td>   ThirdPartyCookieBlockingDisabled</td>\n    </tr>\n    <tr>\n      <th>2</th>\n      <td> 3481978854</td>\n      <td> i</td>\n      <td> 37</td>\n      <td> 4</td>\n      <td>   110335</td>\n      <td> OmniboxDestinationURLIsSearchOnDSP</td>\n    </tr>\n    <tr>\n      <th>3</th>\n      <td> 1028125940</td>\n      <td> i</td>\n      <td> 37</td>\n      <td> 4</td>\n      <td>   170735</td>\n      <td>                   MobileMenuNewTab</td>\n    </tr>\n    <tr>\n      <th>4</th>\n      <td> 1028125940</td>\n      <td> i</td>\n      <td> 37</td>\n      <td> 4</td>\n      <td>  3578460</td>\n      <td>           MobileNTPShowMostVisited</td>\n    </tr>\n  </tbody>\n</table>\n<p>5 rows \u00d7 6 columns</p>\n</div>",
              "text/plain": "        group platform  mstone  channel         N  \\\n0  1028125940        i      37        4  72197487   \n1  1028125940        i      37        4   4208286   \n2  3481978854        i      37        4    110335   \n3  1028125940        i      37        4    170735   \n4  1028125940        i      37        4   3578460   \n\n                               action  \n0                  MobileTabClobbered  \n1    ThirdPartyCookieBlockingDisabled  \n2  OmniboxDestinationURLIsSearchOnDSP  \n3                    MobileMenuNewTab  \n4            MobileNTPShowMostVisited  \n\n[5 rows x 6 columns]",
              "prompt_number": 37,
              "output_type": "pyout",
              "metadata": {}
            }
          ],
          "language": "python",
          "metadata": {
            "cellView": null,
            "executionInfo": {
              "content": {
                "status": "ok",
                "user_variables": {},
                "execution_count": 37,
                "payload": [],
                "user_expressions": {}
              },
              "timestamp": 1412099509706,
              "user_tz": 240,
              "user": {
                "sessionId": "6f676d0333b0b34b",
                "userId": "115724376180809803482",
                "displayName": "Marcin Swiatek",
                "color": "#1FA15D",
                "isMe": true,
                "isAnonymous": false,
                "photoUrl": "//lh4.googleusercontent.com/-HoyQqGSZP0g/AAAAAAAAAAI/AAAAAAAAAHo/b_LSU47HIlQ/s50-c-k-no/photo.jpg"
              }
            }
          }
        },
        {
          "cell_type": "markdown",
          "source": "This is prettier, but we still don't know much. It is better to focus on something specific:<br> \nhttps://cs.corp.google.com/#piper///depot/google3/googledata/googleclient/chrome/finch/studies/QuicBeta.json\n\nLets use pandas to select a subpopulation we care about:\n<ul>\n<li>Groups: Enabled (25%), Control(25%) or Disabled(50%)\n<li>Platform: Windows\n<li>Channel: BETA (3)\n</ul>"
        },
        {
          "cell_type": "code",
          "input": "groups = ['Enabled', 'Control', 'Disabled']\ngroup_filter = {int(StudyHash(n), 16): n for n in groups}\n\n# Filter to retain only relevant rows.\nD1 = D[[(c==3 and p=='W' and g in group_filter) for c, p, g in zip(D.channel, D.platform, D.group)]]\n\n# Chuck unneeded columns.\ndel D1['platform'], D1['channel']\n\n# Thus far we were using a 'slice', lets make it a copy.\nD1 = D1.copy()\n\n# Give nice names to groups.\nD1['group'] = [group_filter[g] for g in D1.group]\n\nD1.head(10)",
          "outputs": [
            {
              "text/html": "<div style=\"max-height:1000px;max-width:1500px;overflow:auto;\">\n<table border=\"1\" class=\"dataframe\">\n  <thead>\n    <tr style=\"text-align: right;\">\n      <th></th>\n      <th>group</th>\n      <th>mstone</th>\n      <th>N</th>\n      <th>action</th>\n    </tr>\n  </thead>\n  <tbody>\n    <tr>\n      <th>143</th>\n      <td> Disabled</td>\n      <td> 38</td>\n      <td>   700836</td>\n      <td>    NavEntryCommitted.SRP</td>\n    </tr>\n    <tr>\n      <th>144</th>\n      <td> Disabled</td>\n      <td> 38</td>\n      <td> 29758989</td>\n      <td>                 PageLoad</td>\n    </tr>\n    <tr>\n      <th>163</th>\n      <td>  Enabled</td>\n      <td> 38</td>\n      <td> 14521988</td>\n      <td>                 PageLoad</td>\n    </tr>\n    <tr>\n      <th>208</th>\n      <td> Disabled</td>\n      <td> 38</td>\n      <td>    21604</td>\n      <td>            Themes.Loaded</td>\n    </tr>\n    <tr>\n      <th>209</th>\n      <td>  Control</td>\n      <td> 38</td>\n      <td>  2878404</td>\n      <td>         ActiveTabChanged</td>\n    </tr>\n    <tr>\n      <th>223</th>\n      <td>  Control</td>\n      <td> 38</td>\n      <td> 32706328</td>\n      <td>  FilterURLTermiate_About</td>\n    </tr>\n    <tr>\n      <th>230</th>\n      <td>  Control</td>\n      <td> 38</td>\n      <td>    79712</td>\n      <td>              StartupTick</td>\n    </tr>\n    <tr>\n      <th>238</th>\n      <td> Disabled</td>\n      <td> 38</td>\n      <td>    40417</td>\n      <td>              ShowAppMenu</td>\n    </tr>\n    <tr>\n      <th>248</th>\n      <td>  Control</td>\n      <td> 38</td>\n      <td>  2369418</td>\n      <td>     ActiveBrowserChanged</td>\n    </tr>\n    <tr>\n      <th>274</th>\n      <td>  Control</td>\n      <td> 38</td>\n      <td>    23273</td>\n      <td> ClickedBookmarkBarFolder</td>\n    </tr>\n  </tbody>\n</table>\n<p>10 rows \u00d7 4 columns</p>\n</div>",
              "text/plain": "        group  mstone         N                    action\n143  Disabled      38    700836     NavEntryCommitted.SRP\n144  Disabled      38  29758989                  PageLoad\n163   Enabled      38  14521988                  PageLoad\n208  Disabled      38     21604             Themes.Loaded\n209   Control      38   2878404          ActiveTabChanged\n223   Control      38  32706328   FilterURLTermiate_About\n230   Control      38     79712               StartupTick\n238  Disabled      38     40417               ShowAppMenu\n248   Control      38   2369418      ActiveBrowserChanged\n274   Control      38     23273  ClickedBookmarkBarFolder\n\n[10 rows x 4 columns]",
              "prompt_number": 38,
              "output_type": "pyout",
              "metadata": {}
            }
          ],
          "language": "python",
          "metadata": {
            "cellView": null,
            "executionInfo": {
              "content": {
                "status": "ok",
                "user_variables": {},
                "execution_count": 38,
                "payload": [],
                "user_expressions": {}
              },
              "timestamp": 1412099510219,
              "user_tz": 240,
              "user": {
                "sessionId": "6f676d0333b0b34b",
                "userId": "115724376180809803482",
                "displayName": "Marcin Swiatek",
                "color": "#1FA15D",
                "isMe": true,
                "isAnonymous": false,
                "photoUrl": "//lh4.googleusercontent.com/-HoyQqGSZP0g/AAAAAAAAAAI/AAAAAAAAAHo/b_LSU47HIlQ/s50-c-k-no/photo.jpg"
              }
            }
          }
        },
        {
          "cell_type": "code",
          "input": "# OK, what about mstone field.... The study config says they should be 38 or higher.\nprint D1.mstone.unique()",
          "outputs": [
            {
              "output_type": "stream",
              "text": "[38 37 39 36]\n",
              "stream": "stdout"
            }
          ],
          "language": "python",
          "metadata": {
            "cellView": null,
            "executionInfo": {
              "content": {
                "status": "ok",
                "user_variables": {},
                "execution_count": 39,
                "payload": [],
                "user_expressions": {}
              },
              "timestamp": 1412099510602,
              "user_tz": 240,
              "user": {
                "sessionId": "6f676d0333b0b34b",
                "userId": "115724376180809803482",
                "displayName": "Marcin Swiatek",
                "color": "#1FA15D",
                "isMe": true,
                "isAnonymous": false,
                "photoUrl": "//lh4.googleusercontent.com/-HoyQqGSZP0g/AAAAAAAAAAI/AAAAAAAAAHo/b_LSU47HIlQ/s50-c-k-no/photo.jpg"
              }
            }
          }
        },
        {
          "cell_type": "code",
          "input": "# It appears we should eliminate the field. For now: drop everything below 38, add up the rest.\nD1 = D1[[m >= 38 for m in D1.mstone]]\nD1.groupby(by=['action', 'group'], as_index=False).sum().head(10)\n",
          "outputs": [
            {
              "text/html": "<div style=\"max-height:1000px;max-width:1500px;overflow:auto;\">\n<table border=\"1\" class=\"dataframe\">\n  <thead>\n    <tr style=\"text-align: right;\">\n      <th></th>\n      <th>action</th>\n      <th>group</th>\n      <th>mstone</th>\n      <th>N</th>\n    </tr>\n  </thead>\n  <tbody>\n    <tr>\n      <th>0</th>\n      <td>                                   AboutChrome</td>\n      <td>  Control</td>\n      <td> 77</td>\n      <td>  485</td>\n    </tr>\n    <tr>\n      <th>1</th>\n      <td>                                   AboutChrome</td>\n      <td> Disabled</td>\n      <td> 77</td>\n      <td> 1006</td>\n    </tr>\n    <tr>\n      <th>2</th>\n      <td>                                   AboutChrome</td>\n      <td>  Enabled</td>\n      <td> 77</td>\n      <td>  462</td>\n    </tr>\n    <tr>\n      <th>3</th>\n      <td>                                AboutConflicts</td>\n      <td>  Control</td>\n      <td> 38</td>\n      <td>   23</td>\n    </tr>\n    <tr>\n      <th>4</th>\n      <td>                                AboutConflicts</td>\n      <td> Disabled</td>\n      <td> 38</td>\n      <td>   17</td>\n    </tr>\n    <tr>\n      <th>5</th>\n      <td>                                AboutConflicts</td>\n      <td>  Enabled</td>\n      <td> 38</td>\n      <td>   18</td>\n    </tr>\n    <tr>\n      <th>6</th>\n      <td>                        AboutFlags_StartupTick</td>\n      <td>  Control</td>\n      <td> 77</td>\n      <td> 1645</td>\n    </tr>\n    <tr>\n      <th>7</th>\n      <td>                        AboutFlags_StartupTick</td>\n      <td> Disabled</td>\n      <td> 77</td>\n      <td> 3392</td>\n    </tr>\n    <tr>\n      <th>8</th>\n      <td>                        AboutFlags_StartupTick</td>\n      <td>  Enabled</td>\n      <td> 77</td>\n      <td> 1646</td>\n    </tr>\n    <tr>\n      <th>9</th>\n      <td> AboutFlags_disable-views-rect-based-targeting</td>\n      <td>  Control</td>\n      <td> 38</td>\n      <td>    4</td>\n    </tr>\n  </tbody>\n</table>\n<p>10 rows \u00d7 4 columns</p>\n</div>",
              "text/plain": "                                          action     group  mstone     N\n0                                    AboutChrome   Control      77   485\n1                                    AboutChrome  Disabled      77  1006\n2                                    AboutChrome   Enabled      77   462\n3                                 AboutConflicts   Control      38    23\n4                                 AboutConflicts  Disabled      38    17\n5                                 AboutConflicts   Enabled      38    18\n6                         AboutFlags_StartupTick   Control      77  1645\n7                         AboutFlags_StartupTick  Disabled      77  3392\n8                         AboutFlags_StartupTick   Enabled      77  1646\n9  AboutFlags_disable-views-rect-based-targeting   Control      38     4\n\n[10 rows x 4 columns]",
              "prompt_number": 40,
              "output_type": "pyout",
              "metadata": {}
            }
          ],
          "language": "python",
          "metadata": {
            "cellView": null,
            "executionInfo": {
              "content": {
                "status": "ok",
                "user_variables": {},
                "execution_count": 40,
                "payload": [],
                "user_expressions": {}
              },
              "timestamp": 1412099510797,
              "user_tz": 240,
              "user": {
                "sessionId": "6f676d0333b0b34b",
                "userId": "115724376180809803482",
                "displayName": "Marcin Swiatek",
                "color": "#1FA15D",
                "isMe": true,
                "isAnonymous": false,
                "photoUrl": "//lh4.googleusercontent.com/-HoyQqGSZP0g/AAAAAAAAAAI/AAAAAAAAAHo/b_LSU47HIlQ/s50-c-k-no/photo.jpg"
              }
            }
          }
        },
        {
          "cell_type": "code",
          "input": "# OK. Drop mstone, reformat the table and create the summary rows.\n\nD1 = D1.groupby(by=['action', 'group'], as_index=False).sum()\ndel D1['mstone']\n\nS = D1.pivot('action', 'group', 'N')\nS.head()",
          "outputs": [
            {
              "text/html": "<div style=\"max-height:1000px;max-width:1500px;overflow:auto;\">\n<table border=\"1\" class=\"dataframe\">\n  <thead>\n    <tr style=\"text-align: right;\">\n      <th>group</th>\n      <th>Control</th>\n      <th>Disabled</th>\n      <th>Enabled</th>\n    </tr>\n    <tr>\n      <th>action</th>\n      <th></th>\n      <th></th>\n      <th></th>\n    </tr>\n  </thead>\n  <tbody>\n    <tr>\n      <th>AboutChrome</th>\n      <td>  485</td>\n      <td> 1006</td>\n      <td>  462</td>\n    </tr>\n    <tr>\n      <th>AboutConflicts</th>\n      <td>   23</td>\n      <td>   17</td>\n      <td>   18</td>\n    </tr>\n    <tr>\n      <th>AboutFlags_StartupTick</th>\n      <td> 1645</td>\n      <td> 3392</td>\n      <td> 1646</td>\n    </tr>\n    <tr>\n      <th>AboutFlags_disable-views-rect-based-targeting</th>\n      <td>    4</td>\n      <td>  NaN</td>\n      <td>    2</td>\n    </tr>\n    <tr>\n      <th>AboutFlags_enable-nacl</th>\n      <td>   42</td>\n      <td>   87</td>\n      <td>   37</td>\n    </tr>\n  </tbody>\n</table>\n<p>5 rows \u00d7 3 columns</p>\n</div>",
              "text/plain": "group                                          Control  Disabled  Enabled\naction                                                                   \nAboutChrome                                        485      1006      462\nAboutConflicts                                      23        17       18\nAboutFlags_StartupTick                            1645      3392     1646\nAboutFlags_disable-views-rect-based-targeting        4       NaN        2\nAboutFlags_enable-nacl                              42        87       37\n\n[5 rows x 3 columns]",
              "prompt_number": 41,
              "output_type": "pyout",
              "metadata": {}
            }
          ],
          "language": "python",
          "metadata": {
            "cellView": null,
            "executionInfo": {
              "content": {
                "status": "ok",
                "user_variables": {},
                "execution_count": 41,
                "payload": [],
                "user_expressions": {}
              },
              "timestamp": 1412099510992,
              "user_tz": 240,
              "user": {
                "sessionId": "6f676d0333b0b34b",
                "userId": "115724376180809803482",
                "displayName": "Marcin Swiatek",
                "color": "#1FA15D",
                "isMe": true,
                "isAnonymous": false,
                "photoUrl": "//lh4.googleusercontent.com/-HoyQqGSZP0g/AAAAAAAAAAI/AAAAAAAAAHo/b_LSU47HIlQ/s50-c-k-no/photo.jpg"
              }
            }
          }
        },
        {
          "cell_type": "code",
          "input": "# Note the presence of NaN values. They were created in pivoting and correspond to 'missing observations'. In our particular case, they are 0.\nS = S.fillna(0)\nS['All'] = S['Control'] + S['Disabled'] + S['Enabled']\nS['Diff'] = (S['Enabled'] - S['Control']).abs() / S['All'].astype(float)\nS.head()",
          "outputs": [
            {
              "text/html": "<div style=\"max-height:1000px;max-width:1500px;overflow:auto;\">\n<table border=\"1\" class=\"dataframe\">\n  <thead>\n    <tr style=\"text-align: right;\">\n      <th>group</th>\n      <th>Control</th>\n      <th>Disabled</th>\n      <th>Enabled</th>\n      <th>All</th>\n      <th>Diff</th>\n    </tr>\n    <tr>\n      <th>action</th>\n      <th></th>\n      <th></th>\n      <th></th>\n      <th></th>\n      <th></th>\n    </tr>\n  </thead>\n  <tbody>\n    <tr>\n      <th>AboutChrome</th>\n      <td>  485</td>\n      <td> 1006</td>\n      <td>  462</td>\n      <td> 1953</td>\n      <td> 0.011777</td>\n    </tr>\n    <tr>\n      <th>AboutConflicts</th>\n      <td>   23</td>\n      <td>   17</td>\n      <td>   18</td>\n      <td>   58</td>\n      <td> 0.086207</td>\n    </tr>\n    <tr>\n      <th>AboutFlags_StartupTick</th>\n      <td> 1645</td>\n      <td> 3392</td>\n      <td> 1646</td>\n      <td> 6683</td>\n      <td> 0.000150</td>\n    </tr>\n    <tr>\n      <th>AboutFlags_disable-views-rect-based-targeting</th>\n      <td>    4</td>\n      <td>    0</td>\n      <td>    2</td>\n      <td>    6</td>\n      <td> 0.333333</td>\n    </tr>\n    <tr>\n      <th>AboutFlags_enable-nacl</th>\n      <td>   42</td>\n      <td>   87</td>\n      <td>   37</td>\n      <td>  166</td>\n      <td> 0.030120</td>\n    </tr>\n  </tbody>\n</table>\n<p>5 rows \u00d7 5 columns</p>\n</div>",
              "text/plain": "group                                          Control  Disabled  Enabled  \\\naction                                                                      \nAboutChrome                                        485      1006      462   \nAboutConflicts                                      23        17       18   \nAboutFlags_StartupTick                            1645      3392     1646   \nAboutFlags_disable-views-rect-based-targeting        4         0        2   \nAboutFlags_enable-nacl                              42        87       37   \n\ngroup                                           All      Diff  \naction                                                         \nAboutChrome                                    1953  0.011777  \nAboutConflicts                                   58  0.086207  \nAboutFlags_StartupTick                         6683  0.000150  \nAboutFlags_disable-views-rect-based-targeting     6  0.333333  \nAboutFlags_enable-nacl                          166  0.030120  \n\n[5 rows x 5 columns]",
              "prompt_number": 42,
              "output_type": "pyout",
              "metadata": {}
            }
          ],
          "language": "python",
          "metadata": {
            "cellView": null,
            "executionInfo": {
              "content": {
                "status": "ok",
                "user_variables": {},
                "execution_count": 42,
                "payload": [],
                "user_expressions": {}
              },
              "timestamp": 1412099511185,
              "user_tz": 240,
              "user": {
                "sessionId": "6f676d0333b0b34b",
                "userId": "115724376180809803482",
                "displayName": "Marcin Swiatek",
                "color": "#1FA15D",
                "isMe": true,
                "isAnonymous": false,
                "photoUrl": "//lh4.googleusercontent.com/-HoyQqGSZP0g/AAAAAAAAAAI/AAAAAAAAAHo/b_LSU47HIlQ/s50-c-k-no/photo.jpg"
              }
            }
          }
        },
        {
          "cell_type": "markdown",
          "source": "<h2>Exercise 4: exploration and interactive tables</h2>\nNow that we have all that data for a particular subpopulation, we may want to play with it a bit, see where large differences are."
        },
        {
          "cell_type": "code",
          "input": "# We would like to discard infrequent actions. This kind of chaff it not really useful.\nS.All.describe()",
          "outputs": [
            {
              "text/plain": "count    5.470000e+02\nmean     4.858979e+05\nstd      6.247224e+06\nmin      1.000000e+00\n25%      1.250000e+01\n50%      1.360000e+02\n75%      1.833000e+03\nmax      1.297822e+08\nName: All, dtype: float64",
              "prompt_number": 43,
              "output_type": "pyout",
              "metadata": {}
            }
          ],
          "language": "python",
          "metadata": {
            "cellView": null,
            "executionInfo": {
              "content": {
                "status": "ok",
                "user_variables": {},
                "execution_count": 43,
                "payload": [],
                "user_expressions": {}
              },
              "timestamp": 1412099511687,
              "user_tz": 240,
              "user": {
                "sessionId": "6f676d0333b0b34b",
                "userId": "115724376180809803482",
                "displayName": "Marcin Swiatek",
                "color": "#1FA15D",
                "isMe": true,
                "isAnonymous": false,
                "photoUrl": "//lh4.googleusercontent.com/-HoyQqGSZP0g/AAAAAAAAAAI/AAAAAAAAAHo/b_LSU47HIlQ/s50-c-k-no/photo.jpg"
              }
            }
          }
        },
        {
          "cell_type": "code",
          "input": "# We should have a closer look. But it is evident from the description that normal histogram won't help us at all. \nfigure(figsize=(10, 6))\nlog10(S.All).hist(bins=50, figsize=(10, 6))\n_=title('Histogram of actions totals (x=log10)')",
          "outputs": [
            {
              "image/png": "[encoded data removed]",
              "text/plain": "<matplotlib.figure.Figure at 0xa99de50>",
              "output_type": "display_data",
              "metadata": {}
            }
          ],
          "language": "python",
          "metadata": {
            "cellView": null,
            "executionInfo": {
              "content": {
                "status": "ok",
                "user_variables": {},
                "execution_count": 44,
                "payload": [],
                "user_expressions": {}
              },
              "timestamp": 1412099511875,
              "user_tz": 240,
              "user": {
                "sessionId": "6f676d0333b0b34b",
                "userId": "115724376180809803482",
                "displayName": "Marcin Swiatek",
                "color": "#1FA15D",
                "isMe": true,
                "isAnonymous": false,
                "photoUrl": "//lh4.googleusercontent.com/-HoyQqGSZP0g/AAAAAAAAAAI/AAAAAAAAAHo/b_LSU47HIlQ/s50-c-k-no/photo.jpg"
              }
            }
          }
        },
        {
          "cell_type": "code",
          "input": "from colabtools import interactive_table\nSf = S[[n > 1000 for n in S.All]]\n\ninteractive_table.InteractiveTable(['Action', 'Disabled', 'Control', 'Enabled', 'Sum', '|C-E|/S'],\n                                   zip(Sf.index, Sf.Disabled, Sf.Control, Sf.Enabled, Sf.All, Sf.Diff))",
          "outputs": [
            {
              "application/javascript": "window.interactive_widgets_allowed = true; ",
              "text/plain": "<colabtools.interactive_util.Javascript at 0xa998510>",
              "output_type": "display_data",
              "metadata": {
                "application/javascript": {
                  "ephemeral": true
                }
              }
            },
            {
              "text/html": "<span id='msgIT_id_20'></span>\n            <table cellpadding=\"1\"\n                   cellspacing=\"1\"\n                   border=\"1\"\n                   id=IT_id_20\n                   style=\"width:100%;border:1px solid black\">\n            <thead></thead>\n            <tfoot style=\"display: table-header-group; color: gray\">\n               <tr></tr>\n            </tfoot>\n            </table>\n    <script>;setTimeout(function() {\n      console.log(\"started\");\n      var tfooter = $('#IT_id_20').find(\"tfoot tr\");\n      var columns = [{'sTitle': 'Action'}, {'sTitle': 'Disabled'}, {'sTitle': 'Control'}, {'sTitle': 'Enabled'}, {'sTitle': 'Sum'}, {'sTitle': '|C-E|/S'}]\n      for (var col in columns) {\n        tfooter.append(\"<th>\" + columns[col].sTitle + \"</th>\");\n      }\n      var target_el = $('#IT_id_20');\n      console.log(target_el);\n      var setupTable = function() {\n        // This removes all event listeners from this cell!\n        // We do this to prevent notebook from stealing focus\n        // when user clicks on edit boxes\n        // This might also remove some useful handlers, but\n        // we are not aware if there are any. Re-visit as needed.\n        var cell = $('#output-area');\n        cell.select = selectWithoutCodeMirrorFocus;\n        var table = $('#IT_id_20').dataTable({ \n\n            'aaData': [[\"AboutChrome\",1006.0,485.0,462.0,1953.0,0.0117767537122],\n [\"AboutFlags_StartupTick\",3392.0,1645.0,1646.0,6683.0,0.000149633398174],\n [\"AboutFlags_extension-apis\",638.0,307.0,298.0,1243.0,0.00724054706356],\n [\"Accel_Focus_Location\",123052.0,64244.0,62805.0,250101.0,0.00575367551509],\n [\"Accel_Focus_Search\",966.0,423.0,457.0,1846.0,0.0184182015168],\n [\"Accel_SelectNextTab\",26483.0,12245.0,27473.0,66201.0,0.230026736756],\n [\"Accel_SelectPreviousTab\",11379.0,5567.0,4956.0,21902.0,0.0278969957082],\n [\"AcceptedKeyword\",1133.0,527.0,567.0,2227.0,0.0179613830265],\n [\"AcceptedKeywordHint\",1229.0,588.0,591.0,2408.0,0.00124584717608],\n [\"ActiveBrowserChanged\",4818372.0,2375350.0,2335354.0,9529076.0,0.00419725899972],\n [\"ActiveTabChanged\",5783536.0,2884923.0,2838863.0,11507322.0,0.00400266890941],\n [\"AppList_AutoLaunchCanceled\",5412.0,2528.0,2400.0,10340.0,0.0123791102515],\n [\"AppList_ClickOnApp\",1084.0,561.0,581.0,2226.0,0.00898472596586],\n [\"Back\",582811.0,289855.0,289701.0,1162367.0,0.000132488276078],\n [\"BackMenu_HistoryClick1\",787.0,392.0,340.0,1519.0,0.0342330480579],\n [\"BackMenu_HistoryClick2\",757.0,335.0,302.0,1394.0,0.0236728837877],\n [\"BackMenu_Popup\",6956.0,3282.0,3374.0,13612.0,0.00675874228622],\n [\"BackMenu_ShowFullHistory\",1032.0,489.0,527.0,2048.0,0.0185546875],\n [\"BookmarkAdded\",8994.0,4728.0,4708.0,18430.0,0.00108518719479],\n [\"BookmarkBar_ContextMenu_OpenAll\",3291.0,1662.0,1722.0,6675.0,0.00898876404494],\n [\"BookmarkBar_ContextMenu_Remove\",4156.0,1660.0,2060.0,7876.0,0.0507872016252],\n [\"BookmarkBar_DragButton\",2115.0,929.0,870.0,3914.0,0.0150740929995],\n [\"BookmarkBar_DragFromFolder\",1009.0,403.0,618.0,2030.0,0.105911330049],\n [\"BookmarkBubble_ChangeParent\",774.0,389.0,427.0,1590.0,0.0238993710692],\n [\"BookmarkBubble_ChangeTitleInBubble\",623.0,267.0,262.0,1152.0,0.00434027777778],\n [\"BookmarkBubble_Unstar\",546.0,236.0,396.0,1178.0,0.135823429542],\n [\"BookmarkManager_Command_Delete\",1784.0,583.0,423.0,2790.0,0.0573476702509],\n [\"BookmarkManager_Command_OpenInSame\",860.0,335.0,407.0,1602.0,0.0449438202247],\n [\"BookmarkManager_Command_Paste\",1139.0,11.0,21.0,1171.0,0.00853970964987],\n [\"BookmarkManager_NavigateTo_BookmarkBar\",586.0,344.0,391.0,1321.0,0.0355791067373],\n [\"BookmarkManager_NavigateTo_Search\",467.0,321.0,269.0,1057.0,0.0491958372753],\n [\"BookmarkManager_NavigateTo_SubFolder\",3425.0,779.0,964.0,5168.0,0.0357972136223],\n [\"BrowserPlugin.Guest.DidNavigate\",569.0,538.0,343.0,1450.0,0.134482758621],\n [\"ClearBrowsingData_Autofill\",3086.0,1554.0,1536.0,6176.0,0.00291450777202],\n [\"ClearBrowsingData_Cache\",22090.0,13423.0,15312.0,50825.0,0.0371667486473],\n [\"ClearBrowsingData_ChannelIDs\",4819.0,2478.0,2466.0,9763.0,0.00122913039025],\n [\"ClearBrowsingData_ContentLicenses\",2361.0,1194.0,1166.0,4721.0,0.0059309468333],\n [\"ClearBrowsingData_Cookies\",4763.0,2454.0,2448.0,9665.0,0.000620796689084],\n [\"ClearBrowsingData_Downloads\",127553.0,32381.0,76993.0,236927.0,0.188294284737],\n [\"ClearBrowsingData_Everything\",2905.0,1488.0,1434.0,5827.0,0.00926720439334],\n [\"ClearBrowsingData_History\",9663.0,5061.0,4947.0,19671.0,0.00579533323166],\n [\"ClearBrowsingData_LSOData\",4999.0,2585.0,2563.0,10147.0,0.00216812851089],\n [\"ClearBrowsingData_LastHour\",1145.0,648.0,624.0,2417.0,0.00992966487381],\n [\"ClearBrowsingData_MaskContainsProtectedWeb\",2826.0,1414.0,1412.0,5652.0,0.000353857041755],\n [\"ClearBrowsingData_MaskContainsUnprotectedWeb\",144956.0,43360.0,89792.0,278108.0,0.166956721849],\n [\"ClearBrowsingData_Passwords\",2655.0,1333.0,1358.0,5346.0,0.00467639356528],\n [\"ClearBrowsingData_ShaderCache\",22090.0,13423.0,15312.0,50825.0,0.0371667486473],\n [\"ClearBrowsingData_ShowDlg\",5092.0,2640.0,2669.0,10401.0,0.00278819344294],\n [\"ClickedBookmarkBarAppsShortcutButton\",5045.0,2361.0,2455.0,9861.0,0.00953250177467],\n [\"ClickedBookmarkBarFolder\",46989.0,23359.0,23421.0,93769.0,0.000661199330269],\n [\"ClickedBookmarkBarURLButton\",142468.0,69473.0,70085.0,282026.0,0.00217001269387],\n [\"CloseTabByKey\",37296.0,18744.0,18878.0,74918.0,0.00178862222697],\n [\"CloseTab_Accelerator\",37296.0,18744.0,18878.0,74918.0,0.00178862222697],\n [\"CloseWindow\",2438.0,1165.0,1051.0,4654.0,0.0244950580146],\n [\"CloseWindowByKey\",2005.0,956.0,816.0,3777.0,0.0370664548584],\n [\"Copy\",49443.0,23713.0,23005.0,96161.0,0.00736265221867],\n [\"Cut\",1284.0,561.0,601.0,2446.0,0.0163532297629],\n [\"DeleteSelection\",524.0,202.0,360.0,1086.0,0.145488029466],\n [\"DevTools_InspectElement\",3040.0,1391.0,1718.0,6149.0,0.0531793787608],\n [\"DevTools_InspectRenderer\",4157.0,1897.0,2144.0,8198.0,0.0301292998292],\n [\"DevTools_ToggleWindow\",9281.0,3472.0,4588.0,17341.0,0.0643561501644],\n [\"Exit\",864.0,403.0,427.0,1694.0,0.0141676505313],\n [\"FilterURLTermiate_About\",64991349.0,32801642.0,31989231.0,129782222.0,0.00625980190106],\n [\"FilterURLTermiate_Blocked\",2684.0,1908.0,1828.0,6420.0,0.01246105919],\n [\"FilterURLTermiate_Invalid\",79907.0,37121.0,36351.0,153379.0,0.00502024397082],\n [\"Find\",10237.0,4885.0,4979.0,20101.0,0.00467638425949],\n [\"FindNext\",5182.0,1759.0,1455.0,8396.0,0.0362077179609],\n [\"FirstRunDef_Accept\",887.0,419.0,380.0,1686.0,0.0231316725979],\n [\"FocusAppMenu\",23033.0,6221.0,10436.0,39690.0,0.106198034769],\n [\"FocusLocation\",123052.0,64244.0,62805.0,250101.0,0.00575367551509],\n [\"FocusNextPane\",7234.0,3113.0,8112.0,18459.0,0.270816403922],\n [\"FocusSearch\",966.0,423.0,457.0,1846.0,0.0184182015168],\n [\"Forward\",16315.0,7675.0,7767.0,31757.0,0.00289699908682],\n [\"HistoryPage_ConfirmRemoveSelected\",4455.0,2377.0,2752.0,9584.0,0.0391277128548],\n [\"HistoryPage_EntryLinkClick\",6568.0,3376.0,3535.0,13479.0,0.0117961273091],\n [\"HistoryPage_EntryLinkRightClick\",1233.0,664.0,645.0,2542.0,0.00747442958301],\n [\"HistoryPage_EntryMenuRemoveFromHistory\",3409.0,1741.0,1425.0,6575.0,0.0480608365019],\n [\"HistoryPage_InitClearBrowsingData\",4613.0,2412.0,2450.0,9475.0,0.00401055408971],\n [\"HistoryPage_OlderHistoryClick\",1283.0,801.0,605.0,2689.0,0.0728895500186],\n [\"HistoryPage_RemoveSelected\",4544.0,2416.0,2777.0,9737.0,0.0370750744583],\n [\"HistoryPage_Search\",663.0,488.0,354.0,1505.0,0.0890365448505],\n [\"HistoryPage_SearchResultRemove\",642.0,419.0,327.0,1388.0,0.0662824207493],\n [\"Home\",12566.0,6147.0,6580.0,25293.0,0.017119361088],\n [\"InstantExtended.ShowNTP\",818815.0,405661.0,400524.0,1625000.0,0.00316123076923],\n [\"KeySystemSupport.Widevine.Queried\",1298.0,608.0,658.0,2564.0,0.0195007800312],\n [\"KeySystemSupport.Widevine.Supported\",1278.0,605.0,653.0,2536.0,0.018927444795],\n [\"KeySystemSupport.WidevineWithType.Queried\",1298.0,608.0,658.0,2564.0,0.0195007800312],\n [\"KeySystemSupport.WidevineWithType.Supported\",1278.0,605.0,653.0,2536.0,0.018927444795],\n [\"KeywordEditor_RemoveKeyword\",1168.0,357.0,386.0,1911.0,0.0151753008896],\n [\"LanguageOptions_Open\",686.0,348.0,224.0,1258.0,0.0985691573927],\n [\"Launcher_ClickOnApp\",909.0,400.0,341.0,1650.0,0.0357575757576],\n [\"LoadURL\",517505.0,259131.0,256705.0,1033341.0,0.00234772451688],\n [\"MostVisited_Clicked\",59411.0,29261.0,29263.0,117935.0,1.69584940857e-05],\n [\"NavEntryCommitted\",13901965.0,6854230.0,6771553.0,27527748.0,0.0030034058725],\n [\"NavEntryCommitted.SRP\",703212.0,349707.0,361228.0,1414147.0,0.00814696067665],\n [\"NewIncognitoWindow\",9100.0,4561.0,4399.0,18060.0,0.00897009966777],\n [\"NewTab\",17405.0,7902.0,8489.0,33796.0,0.0173689193987],\n [\"NewTab_Button\",306542.0,152795.0,149901.0,609238.0,0.00475019614666],\n [\"NewWindow\",2085.0,1058.0,1006.0,4149.0,0.0125331405158],\n [\"Notifications.ShowMessageCenter\",765.0,351.0,398.0,1514.0,0.0310435931308],\n [\"OmniboxDestinationURLIsSearchOnDSP\",156737.0,77220.0,76590.0,310547.0,0.00202867842871],\n [\"OmniboxInputInProgress\",518706.0,259429.0,257701.0,1035836.0,0.00166821774876],\n [\"OpenFileSystemPersistent\",720132.0,359436.0,350540.0,1430108.0,0.00622050922028],\n [\"OpenFileSystemTemporary\",161215.0,76550.0,72006.0,309771.0,0.0146689005749],\n [\"Options_LanuageAndSpellCheckSettings\",607.0,311.0,199.0,1117.0,0.100268576544],\n [\"Options_SearchEngineRemoved\",1168.0,357.0,386.0,1911.0,0.0151753008896],\n [\"Options_ShowAdvancedSettings\",1576.0,799.0,749.0,3124.0,0.0160051216389],\n [\"OutdatedPluginInfobar.Closed\",662.0,369.0,287.0,1318.0,0.062215477997],\n [\"OutdatedPluginInfobar.Shown\",660.0,369.0,287.0,1316.0,0.0623100303951],\n [\"OutdatedPluginInfobar.Shown.Java\",565.0,318.0,235.0,1118.0,0.0742397137746],\n [\"PDF.LoadSuccess\",29582.0,14102.0,13895.0,57579.0,0.00359506069921],\n [\"PDF.PrintButton\",1205.0,673.0,689.0,2567.0,0.00623295675886],\n [\"PDF.PrintPage\",8844.0,4144.0,4310.0,17298.0,0.00959648514279],\n [\"PDF.SaveButton\",1906.0,1085.0,995.0,3986.0,0.0225790265931],\n [\"PDF.ZoomFromBrowser\",24749.0,12480.0,11960.0,49189.0,0.0105714692309],\n [\"PDF.ZoomInButton\",1728.0,766.0,798.0,3292.0,0.0097205346294],\n [\"PDF.ZoomOutButton\",492.0,350.0,352.0,1194.0,0.00167504187605],\n [\"PDF_Unsupported_Bookmarks\",837.0,368.0,311.0,1516.0,0.037598944591],\n [\"PDF_UseReaderInfoBarShown\",588.0,280.0,243.0,1111.0,0.033303330333],\n [\"PageLoad\",29863960.0,14825600.0,14562326.0,59251886.0,0.00444330160225],\n [\"Paste\",47070.0,22404.0,21542.0,91016.0,0.00947086226598],\n [\"PasteAndMatchStyle\",1395.0,724.0,745.0,2864.0,0.00733240223464],\n [\"Plugin_Blocked\",2050.0,297.0,1711.0,4058.0,0.348447511089],\n [\"Plugin_ClickToPlay\",19687.0,13791.0,9330.0,42808.0,0.104209493553],\n [\"Plugin_Load_Click\",1003.0,439.0,435.0,1877.0,0.00213106020245],\n [\"Plugin_Load_UI\",2941.0,799.0,1384.0,5124.0,0.114168618267],\n [\"Reload\",133433.0,65606.0,67828.0,266867.0,0.00832624490851],\n [\"ReloadIgnoringCache\",1807.0,734.0,1230.0,3771.0,0.131530098117],\n [\"RestoreTab\",4521.0,2216.0,2106.0,8843.0,0.0124392174601],\n [\"SSL.DisplayedInsecureContent\",4253606.0,2227191.0,2076618.0,8557415.0,0.0175956173681],\n [\"SSL.RanInsecureContent\",16919.0,8175.0,84472.0,109566.0,0.696356533961],\n [\"SSL.RanInsecureContentGoogle\",826.0,250.0,175.0,1251.0,0.0599520383693],\n [\"SavePage\",1066.0,735.0,566.0,2367.0,0.0713983945923],\n [\"SelectNextTab\",26483.0,12245.0,27473.0,66201.0,0.230026736756],\n [\"SelectNumberedTab\",5430.0,1550.0,2164.0,9144.0,0.0671478565179],\n [\"SelectPrevTab\",11379.0,5567.0,4956.0,21902.0,0.0278969957082],\n [\"ShowAppMenu\",40637.0,20495.0,19896.0,81028.0,0.00739250629412],\n [\"ShowDownloads\",7014.0,3545.0,3498.0,14057.0,0.00334352991392],\n [\"ShowExtensions\",710.0,280.0,309.0,1299.0,0.022324865281],\n [\"ShowHelpTab\",2383.0,3674.0,4901.0,10958.0,0.111972987771],\n [\"ShowHelpTabViaF1\",2261.0,3625.0,4834.0,10720.0,0.112779850746],\n [\"ShowHistory\",13852.0,7042.0,7133.0,28027.0,0.00324686909052],\n [\"ShowOptions\",9702.0,4829.0,4826.0,19357.0,0.000154982693599],\n [\"Star\",10338.0,5479.0,5606.0,21423.0,0.00592820800075],\n [\"StartupTick\",161545.0,80019.0,79884.0,321448.0,0.000419974614868],\n [\"StatusArea_Volume_ChangedMenu\",829.0,1491.0,455.0,2775.0,0.373333333333],\n [\"Stop\",29195.0,15077.0,14565.0,58837.0,0.00870200724034],\n [\"TabContextMenu_CloseTab\",675.0,275.0,185.0,1135.0,0.079295154185],\n [\"TabContextMenu_CloseTabsToRight\",583.0,250.0,257.0,1090.0,0.00642201834862],\n [\"TabContextMenu_Duplicate\",916.0,521.0,604.0,2041.0,0.0406663400294],\n [\"TabContextMenu_Reload\",1451.0,714.0,646.0,2811.0,0.0241906794735],\n [\"TabContextMenu_RestoreTab\",813.0,389.0,324.0,1526.0,0.0425950196592],\n [\"TabContextMenu_TogglePinned\",663.0,409.0,304.0,1376.0,0.0763081395349],\n [\"Tab_DropURLBetweenTabs\",4702.0,2397.0,1987.0,9086.0,0.0451243671583],\n [\"Tab_DropURLOnTab\",730.0,362.0,344.0,1436.0,0.0125348189415],\n [\"Themes.Gone\",501.0,277.0,258.0,1036.0,0.0183397683398],\n [\"Themes.Loaded\",21704.0,10872.0,10651.0,43227.0,0.00511254539987],\n [\"ThirdPartyCookieBlockingDisabled\",161016.0,79702.0,79524.0,320242.0,0.000555829653824],\n [\"ThirdPartyCookieBlockingEnabled\",2487.0,1254.0,1253.0,4994.0,0.000200240288346],\n [\"ToggleFullscreen\",1852.0,1192.0,1262.0,4306.0,0.0162563864375],\n [\"TouchscreenScroll\",1043162.0,526930.0,482835.0,2052927.0,0.0214790881507],\n [\"TouchscreenScrollFling\",26552.0,12935.0,12704.0,52191.0,0.00442605046847],\n [\"Touchscreen_Down\",1346.0,1767.0,905.0,4018.0,0.214534594326],\n [\"TrackpadScroll\",1985592.0,888168.0,879381.0,3753141.0,0.00234123897823],\n [\"UpgradeCheck_AlreadyUpToDate\",1127.0,539.0,565.0,2231.0,0.011653966831],\n [\"UpgradeCheck_AlreadyUpgraded\",680.0,145.0,266.0,1091.0,0.110907424381],\n [\"UpgradeCheck_Started\",2087.0,795.0,938.0,3820.0,0.0374345549738],\n [\"ViewSource\",842.0,405.0,573.0,1820.0,0.0923076923077],\n [\"WebsiteSettings_Opened\",1702.0,849.0,791.0,3342.0,0.017354877319],\n [\"ZoomMinus\",19431.0,10038.0,9051.0,38520.0,0.0256230529595],\n [\"ZoomMinus_AtMinimum\",154976.0,81101.0,72517.0,308594.0,0.0278164837942],\n [\"ZoomNormal\",1613.0,738.0,798.0,3149.0,0.0190536678311],\n [\"ZoomPlus\",23918.0,11678.0,10985.0,46581.0,0.0148773104914]],\n\n            'aoColumns': [{'sTitle': 'Action'}, {'sTitle': 'Disabled'}, {'sTitle': 'Control'}, {'sTitle': 'Enabled'}, {'sTitle': 'Sum'}, {'sTitle': '|C-E|/S'}],\n\n            'iDisplayLength': 10 \n\n        });\n        table.saveData = function() {\n          clearTimeout(table.timer);\n          table.timer = setTimeout( function() {\n             saveInteractiveTableData(\"IT_id_20\", table, \"Lstid_20\")\n          }, 1000);\n        };\n        table.bind(\"filter\", function(v) { table.saveData();});\n        document.IT_id_20 = table;\n        var settings = Object({ aoColumns: [ {type:\"text\",bRegex:true},{type:\"number-range\"},{type:\"number-range\"},{type:\"number-range\"},{type:\"number-range\"},{type:\"number-range\"} ] });\n        console.log(settings)\n        //settings.sPlaceHolder=\"head:after\";\n        table.columnFilter(settings);\n        table.saveData();\n      }\n      colab.util.sequentiallyLoadJavascript(['/static/external/js/jquery_datatables.js', '/static/external/js/jquery.dataTables.columnFilter.js', '/static/js/interactive_widgets.js'],\"#msgIT_id_20\",\n        function() {\n           console.log(\"loading after all scripts have loaded\");\n           loadCss(['/static/external/css/demo_table.css', '/static/custom/interactive_table.css']);\n           setupTable();\n         });\n\n    ; }, 1) </script>",
              "text/plain": "<colabtools.interactive_table.InteractiveTable at 0xa998150>",
              "prompt_number": 45,
              "output_type": "pyout",
              "metadata": {}
            }
          ],
          "language": "python",
          "metadata": {
            "cellView": null,
            "executionInfo": {
              "content": {
                "status": "ok",
                "user_variables": {},
                "execution_count": 45,
                "payload": [],
                "user_expressions": {}
              },
              "timestamp": 1412099515338,
              "user_tz": 240,
              "user": {
                "sessionId": "6f676d0333b0b34b",
                "userId": "115724376180809803482",
                "displayName": "Marcin Swiatek",
                "color": "#1FA15D",
                "isMe": true,
                "isAnonymous": false,
                "photoUrl": "//lh4.googleusercontent.com/-HoyQqGSZP0g/AAAAAAAAAAI/AAAAAAAAAHo/b_LSU47HIlQ/s50-c-k-no/photo.jpg"
              }
            }
          }
        },
        {
          "cell_type": "markdown",
          "source": "<h3>Exercise 5: timeseries query + timeseries graph</h3>\nHaving the interactive table above, we can now play with it to our hearts' content. The crude metric |C-E|/S indicates some potential metrics:\n\n<code>SSL.RanInsecureContent, ClearBrowsingData_Downloads, ClearBrowsingData_MaskContainsUnprotectedWeb</code>\nWe will now write a more detailed query to extract this data."
        },
        {
          "cell_type": "code",
          "input": "ACTION_QUERY_TEMPLATE = \"\"\"\nSELECT\n  _PARTITION_DATE as pdate, group, platform, bmin as action, SUM(C) as N\nFROM\n  uma_logs.chrome_uma_heartbeat_histograms.{date}\nWHERE\n  histogram_hash == {histogram} AND\n  study == {study} AND\n  group IN ({groups}) AND\n  channel == {channel} AND\n  bmin IN ({actions}) AND\n  INT32(milestone) >= {min_ver}\nGROUP BY pdate, group, platform, action \nORDER BY pdate, action, platform, group\n\"\"\"\nACTIONS_OF_INTEREST = 'SSL.RanInsecureContent', 'ClearBrowsingData_Downloads', 'ClearBrowsingData_MaskContainsUnprotectedWeb'\nquery = ACTION_QUERY_TEMPLATE.format(date = '{20140917..20140928}',\n                                     histogram=HistogramHash('UserActions.Counts'),\n                                     study='0x'+StudyHash('QUIC'),\n                                     min_ver=36,\n                                     channel=3,\n                                     actions=','.join(ActionHash(n).strip('L') for n in ACTIONS_OF_INTEREST),\n                                     groups=','.join('0x'+StudyHash(n) for n in groups))\nprint query\n\nQ = %dremel_query $query",
          "outputs": [
            {
              "output_type": "stream",
              "text": "\nSELECT\n  _PARTITION_DATE as pdate, group, platform, bmin as action, SUM(C) as N\nFROM\n  uma_logs.chrome_uma_heartbeat_histograms.{20140917..20140928}\nWHERE\n  histogram_hash == 0x96d55faaeb560a55 AND\n  study == 0x4ea303a6 AND\n  group IN (0x3f4a17df,0xf23d1dea,0x3d47f4f4) AND\n  channel == 3 AND\n  bmin IN (0x710497a9,0x70310f85,0x23585d6f) AND\n  INT32(milestone) >= 36\nGROUP BY pdate, group, platform, action \nORDER BY pdate, action, platform, group\n\n",
              "stream": "stdout"
            },
            {
              "text/html": "<span id=\"eltpbid_21\"></span>",
              "text/plain": "<IPython.core.display.HTML at 0x90e4990>",
              "output_type": "display_data",
              "metadata": {}
            },
            {
              "application/javascript": "$(\"#eltpbid_21\").append(\"<table id=tpbid_21 style=\\\"width:50%\\\"><tr><td id=pbid_21 style=\\\"background:blue;width:1%\\\"></td><td></br></table>\");",
              "text/plain": "<colabtools.interactive_util.Javascript at 0x7852ad0>",
              "output_type": "display_data",
              "metadata": {
                "application/javascript": {
                  "ephemeral": true
                }
              }
            },
            {
              "text/html": "<span id=infoid_22><span id=infoid_22_value> Query has not been executed in this session yet. Below is result from past run  </span> </span>",
              "text/plain": "<IPython.core.display.HTML at 0x90e4210>",
              "output_type": "display_data",
              "metadata": {}
            },
            {
              "application/javascript": "$(\"#infoid_22_value\")[0].innerHTML = \"complete: 0% \"; ",
              "text/plain": "<colabtools.interactive_util.Javascript at 0x7852ad0>",
              "output_type": "display_data",
              "metadata": {
                "application/javascript": {
                  "ephemeral": true
                }
              }
            },
            {
              "application/javascript": "$(\"#pbid_21\")[0].style.width=\"88%\";",
              "text/plain": "<colabtools.interactive_util.Javascript at 0x90e4c90>",
              "output_type": "display_data",
              "metadata": {
                "application/javascript": {
                  "ephemeral": true
                }
              }
            },
            {
              "application/javascript": "$(\"#infoid_22_value\")[0].innerHTML = \"complete: 87% execution_time: 1.354206\\nnum_sources: 1199\\nnum_good_sources: 1051\\n\"; ",
              "text/plain": "<colabtools.interactive_util.Javascript at 0x90e4ed0>",
              "output_type": "display_data",
              "metadata": {
                "application/javascript": {
                  "ephemeral": true
                }
              }
            },
            {
              "application/javascript": "$(\"#pbid_21\")[0].style.width=\"100%\";",
              "text/plain": "<colabtools.interactive_util.Javascript at 0x90e4bd0>",
              "output_type": "display_data",
              "metadata": {
                "application/javascript": {
                  "ephemeral": true
                }
              }
            },
            {
              "application/javascript": "$(\"#infoid_22_value\")[0].innerHTML = \"complete: 99% execution_time: 1.993952\\nnum_sources: 1199\\nnum_good_sources: 1191\\n\"; ",
              "text/plain": "<colabtools.interactive_util.Javascript at 0x7852ad0>",
              "output_type": "display_data",
              "metadata": {
                "application/javascript": {
                  "ephemeral": true
                }
              }
            },
            {
              "output_type": "stream",
              "text": "Query finished executing.\n",
              "stream": "stdout"
            },
            {
              "application/javascript": "$(\"#pbid_21\")[0].style.width=\"101%\";",
              "text/plain": "<colabtools.interactive_util.Javascript at 0x90e4ed0>",
              "output_type": "display_data",
              "metadata": {
                "application/javascript": {
                  "ephemeral": true
                }
              }
            },
            {
              "application/javascript": "$(\"#infoid_22_value\")[0].innerHTML = \"complete: 100% Done!\"; ",
              "text/plain": "<colabtools.interactive_util.Javascript at 0x90e4ed0>",
              "output_type": "display_data",
              "metadata": {
                "application/javascript": {
                  "ephemeral": true
                }
              }
            },
            {
              "application/javascript": "$(\"#tpbid_21\")[0].remove()",
              "text/plain": "<colabtools.interactive_util.Javascript at 0x90e4690>",
              "output_type": "display_data",
              "metadata": {
                "application/javascript": {
                  "ephemeral": true
                }
              }
            },
            {
              "output_type": "stream",
              "text": "Received  480  rows from dremel.\n",
              "stream": "stdout"
            }
          ],
          "language": "python",
          "metadata": {
            "cellView": null,
            "executionInfo": {
              "content": {
                "status": "ok",
                "user_variables": {},
                "execution_count": 46,
                "payload": [],
                "user_expressions": {}
              },
              "timestamp": 1412099515564,
              "user_tz": 240,
              "user": {
                "sessionId": "6f676d0333b0b34b",
                "userId": "115724376180809803482",
                "displayName": "Marcin Swiatek",
                "color": "#1FA15D",
                "isMe": true,
                "isAnonymous": false,
                "photoUrl": "//lh4.googleusercontent.com/-HoyQqGSZP0g/AAAAAAAAAAI/AAAAAAAAAHo/b_LSU47HIlQ/s50-c-k-no/photo.jpg"
              }
            }
          }
        },
        {
          "cell_type": "code",
          "input": "# Adjust factor and date columns.\n\nQ['date'] = [pd.datetools.parse(d).date() for d in Q.pdate]\ndel Q['pdate']\nQ['group'] = [group_filter[g] for g in Q.group]\nQ['action'] = [action_dictionary[a] for a in Q.action]\nQ.head()",
          "outputs": [
            {
              "text/html": "<div style=\"max-height:1000px;max-width:1500px;overflow:auto;\">\n<table border=\"1\" class=\"dataframe\">\n  <thead>\n    <tr style=\"text-align: right;\">\n      <th></th>\n      <th>group</th>\n      <th>platform</th>\n      <th>action</th>\n      <th>N</th>\n      <th>date</th>\n    </tr>\n  </thead>\n  <tbody>\n    <tr>\n      <th>0</th>\n      <td> Disabled</td>\n      <td> A</td>\n      <td> ClearBrowsingData_MaskContainsUnprotectedWeb</td>\n      <td>     2</td>\n      <td> 2014-09-17</td>\n    </tr>\n    <tr>\n      <th>1</th>\n      <td>  Enabled</td>\n      <td> A</td>\n      <td> ClearBrowsingData_MaskContainsUnprotectedWeb</td>\n      <td>  1804</td>\n      <td> 2014-09-17</td>\n    </tr>\n    <tr>\n      <th>2</th>\n      <td>  Control</td>\n      <td> A</td>\n      <td> ClearBrowsingData_MaskContainsUnprotectedWeb</td>\n      <td>  1750</td>\n      <td> 2014-09-17</td>\n    </tr>\n    <tr>\n      <th>3</th>\n      <td> Disabled</td>\n      <td> C</td>\n      <td> ClearBrowsingData_MaskContainsUnprotectedWeb</td>\n      <td> 10290</td>\n      <td> 2014-09-17</td>\n    </tr>\n    <tr>\n      <th>4</th>\n      <td>  Enabled</td>\n      <td> C</td>\n      <td> ClearBrowsingData_MaskContainsUnprotectedWeb</td>\n      <td>  7597</td>\n      <td> 2014-09-17</td>\n    </tr>\n  </tbody>\n</table>\n<p>5 rows \u00d7 5 columns</p>\n</div>",
              "text/plain": "      group platform                                        action      N  \\\n0  Disabled        A  ClearBrowsingData_MaskContainsUnprotectedWeb      2   \n1   Enabled        A  ClearBrowsingData_MaskContainsUnprotectedWeb   1804   \n2   Control        A  ClearBrowsingData_MaskContainsUnprotectedWeb   1750   \n3  Disabled        C  ClearBrowsingData_MaskContainsUnprotectedWeb  10290   \n4   Enabled        C  ClearBrowsingData_MaskContainsUnprotectedWeb   7597   \n\n         date  \n0  2014-09-17  \n1  2014-09-17  \n2  2014-09-17  \n3  2014-09-17  \n4  2014-09-17  \n\n[5 rows x 5 columns]",
              "prompt_number": 47,
              "output_type": "pyout",
              "metadata": {}
            }
          ],
          "language": "python",
          "metadata": {
            "cellView": null,
            "executionInfo": {
              "content": {
                "status": "ok",
                "user_variables": {},
                "execution_count": 47,
                "payload": [],
                "user_expressions": {}
              },
              "timestamp": 1412099515734,
              "user_tz": 240,
              "user": {
                "sessionId": "6f676d0333b0b34b",
                "userId": "115724376180809803482",
                "displayName": "Marcin Swiatek",
                "color": "#1FA15D",
                "isMe": true,
                "isAnonymous": false,
                "photoUrl": "//lh4.googleusercontent.com/-HoyQqGSZP0g/AAAAAAAAAAI/AAAAAAAAAHo/b_LSU47HIlQ/s50-c-k-no/photo.jpg"
              }
            }
          }
        },
        {
          "cell_type": "code",
          "input": "# We can also chuck the 'Disabled' group, not particularly usefil in the context. \nQ1 = Q[[g != 'Disabled' for g in Q.group]]\nQ1.shape",
          "outputs": [
            {
              "text/plain": "(325, 5)",
              "prompt_number": 48,
              "output_type": "pyout",
              "metadata": {}
            }
          ],
          "language": "python",
          "metadata": {
            "cellView": null,
            "executionInfo": {
              "content": {
                "status": "ok",
                "user_variables": {},
                "execution_count": 48,
                "payload": [],
                "user_expressions": {}
              },
              "timestamp": 1412099516286,
              "user_tz": 240,
              "user": {
                "sessionId": "6f676d0333b0b34b",
                "userId": "115724376180809803482",
                "displayName": "Marcin Swiatek",
                "color": "#1FA15D",
                "isMe": true,
                "isAnonymous": false,
                "photoUrl": "//lh4.googleusercontent.com/-HoyQqGSZP0g/AAAAAAAAAAI/AAAAAAAAAHo/b_LSU47HIlQ/s50-c-k-no/photo.jpg"
              }
            }
          }
        },
        {
          "cell_type": "code",
          "input": "def ExtractActionAndPlatform(M, platform, action):\n  M_select = M[[a==action and p==platform for a, p in zip(M.action, M.platform)]]\n  M_project = M_select[['date', 'group', 'N']]\n  return M_project.pivot('date', 'group', 'N')\n\ndef ShowLabelledPlots(M, platforms, action, kind='line', figsize=(10, 3)):\n  for platform in platforms:\n    graph_title = '%s (on %s)' % (action, platform)\n    ExtractActionAndPlatform(M, platform, action).plot(figsize=figsize, title=graph_title, kind=kind)\n\n    \nShowLabelledPlots(Q1, 'WM', 'SSL.RanInsecureContent')",
          "outputs": [
            {
              "image/png": "[encoded data removed]",
              "text/plain": "<matplotlib.figure.Figure at 0x90e4890>",
              "output_type": "display_data",
              "metadata": {}
            },
            {
              "image/png": "[encoded data removed]",
              "text/plain": "<matplotlib.figure.Figure at 0x90e42d0>",
              "output_type": "display_data",
              "metadata": {}
            }
          ],
          "language": "python",
          "metadata": {
            "cellView": null,
            "executionInfo": {
              "content": {
                "status": "ok",
                "user_variables": {},
                "execution_count": 49,
                "payload": [],
                "user_expressions": {}
              },
              "timestamp": 1412099516685,
              "user_tz": 240,
              "user": {
                "sessionId": "6f676d0333b0b34b",
                "userId": "115724376180809803482",
                "displayName": "Marcin Swiatek",
                "color": "#1FA15D",
                "isMe": true,
                "isAnonymous": false,
                "photoUrl": "//lh4.googleusercontent.com/-HoyQqGSZP0g/AAAAAAAAAAI/AAAAAAAAAHo/b_LSU47HIlQ/s50-c-k-no/photo.jpg"
              }
            }
          }
        },
        {
          "cell_type": "markdown",
          "source": "<h3>An ad-hoc dashboard</h3>"
        },
        {
          "cell_type": "code",
          "input": "#@title Action counts per platform\naction = \"ClearBrowsingData_MaskContainsUnprotectedWeb\" #@param ['SSL.RanInsecureContent', 'ClearBrowsingData_Downloads', 'ClearBrowsingData_MaskContainsUnprotectedWeb']\nkind = \"line\" #@param ['line', 'bar']\nplatform = \"Linux\" #@param ['Windows', 'ChromeOS', 'Linux', 'Mac']\nShowLabelledPlots(Q1, platform[0], action, kind, figsize=(16, 6))",
          "outputs": [
            {
              "image/png": "[encoded data removed]",
              "text/plain": "<matplotlib.figure.Figure at 0xa9bd210>",
              "output_type": "display_data",
              "metadata": {}
            }
          ],
          "language": "python",
          "metadata": {
            "cellView": "both",
            "executionInfo": {
              "content": {
                "status": "ok",
                "user_variables": {},
                "execution_count": 50,
                "payload": [],
                "user_expressions": {}
              },
              "timestamp": 1412099516862,
              "user_tz": 240,
              "user": {
                "sessionId": "6f676d0333b0b34b",
                "userId": "115724376180809803482",
                "displayName": "Marcin Swiatek",
                "color": "#1FA15D",
                "isMe": true,
                "isAnonymous": false,
                "photoUrl": "//lh4.googleusercontent.com/-HoyQqGSZP0g/AAAAAAAAAAI/AAAAAAAAAHo/b_LSU47HIlQ/s50-c-k-no/photo.jpg"
              }
            }
          }
        }
      ]
    }
  ],
  "metadata": {
    "name": "UMA-coLab-Workshop.ipynb",
    "colabVersion": "0.1"
  },
  "nbformat": 3,
  "nbformat_minor": 0
}