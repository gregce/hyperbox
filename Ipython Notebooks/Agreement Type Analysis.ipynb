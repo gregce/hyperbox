{
 "metadata": {
  "name": "Agreement Type Analysis.ipynb"
 },
 "nbformat": 3,
 "nbformat_minor": 0,
 "worksheets": [
  {
   "cells": [
    {
     "cell_type": "markdown",
     "metadata": {},
     "source": [
      "The first step is to import the relevant libraries necessary for data analysis. In this case we're using numpy (http://www.numpy.org/) and pandas (http://pandas.pydata.org/)"
     ]
    },
    {
     "cell_type": "code",
     "collapsed": false,
     "input": [
      "import numpy as np\n",
      "import pandas as pd\n",
      "from pandas import DataFrame, Series"
     ],
     "language": "python",
     "metadata": {},
     "outputs": [],
     "prompt_number": 9
    },
    {
     "cell_type": "markdown",
     "metadata": {},
     "source": [
      "Next it's necessary to open the actual file we'll be analyzing. We can do this with a built in method available in pandas... called to_csv. We'll store the results in a data frame (which is the general pandas method for analysis) before we start manipulating it.\n",
      "\n",
      "In this case, I queried a table available in Dremel and am reading the results locally from my desktop"
     ]
    },
    {
     "cell_type": "code",
     "collapsed": false,
     "input": [
      "df = pd.read_csv('/Users/ceccarelli/Downloads/result (2).csv')"
     ],
     "language": "python",
     "metadata": {},
     "outputs": [],
     "prompt_number": 11
    },
    {
     "cell_type": "markdown",
     "metadata": {},
     "source": [
      "Once the file is read into memory, you can start to do stuff. For example, I might want to first check out what columns the file contains. In the below example, i'll read the columns into a list so I can manipulate it. After that, I want to check whether or not agreement_type is in the list."
     ]
    },
    {
     "cell_type": "code",
     "collapsed": false,
     "input": [
      "lst = df.columns.tolist()"
     ],
     "language": "python",
     "metadata": {},
     "outputs": [],
     "prompt_number": 25
    },
    {
     "cell_type": "code",
     "collapsed": false,
     "input": [
      "value = \"agreement_type\"\n",
      "if value in lst:\n",
      "    print \"list contains\", value"
     ],
     "language": "python",
     "metadata": {},
     "outputs": [
      {
       "output_type": "stream",
       "stream": "stdout",
       "text": [
        "list contains agreement_type\n"
       ]
      }
     ],
     "prompt_number": 29
    },
    {
     "cell_type": "markdown",
     "metadata": {},
     "source": [
      "Alternatively, we could have just list at a bit of data from the csv. We could have done that with the head method."
     ]
    },
    {
     "cell_type": "code",
     "collapsed": false,
     "input": [
      "df.head(n=2)"
     ],
     "language": "python",
     "metadata": {},
     "outputs": [
      {
       "html": [
        "<div style=\"max-height:1000px;max-width:1500px;overflow:auto;\">\n",
        "<table border=\"1\" class=\"dataframe\">\n",
        "  <thead>\n",
        "    <tr style=\"text-align: right;\">\n",
        "      <th></th>\n",
        "      <th>agreement_type</th>\n",
        "      <th>completion_date</th>\n",
        "      <th>completion_date_part</th>\n",
        "      <th>cost_center</th>\n",
        "      <th>country</th>\n",
        "      <th>created_date</th>\n",
        "      <th>created_date_part</th>\n",
        "      <th>current_quarter_flag</th>\n",
        "      <th>current_year_flag</th>\n",
        "      <th>day_of_month</th>\n",
        "      <th>...</th>\n",
        "      <th>service_type</th>\n",
        "      <th>vp</th>\n",
        "      <th>vp_ldap</th>\n",
        "      <th>week_id</th>\n",
        "      <th>week_of_month</th>\n",
        "      <th>week_of_quarter</th>\n",
        "      <th>week_of_year</th>\n",
        "      <th>year</th>\n",
        "      <th>year_month</th>\n",
        "      <th>year_quarter</th>\n",
        "    </tr>\n",
        "  </thead>\n",
        "  <tbody>\n",
        "    <tr>\n",
        "      <th>0</th>\n",
        "      <td>                   Internal Software/Systems</td>\n",
        "      <td> 2014-01-14</td>\n",
        "      <td> 2014-01-14</td>\n",
        "      <td>         Eng  Infrastructure Security</td>\n",
        "      <td> United States</td>\n",
        "      <td> 2014-01-14 15:17:08</td>\n",
        "      <td> 2014-01-14</td>\n",
        "      <td> 0</td>\n",
        "      <td> 1</td>\n",
        "      <td> 14</td>\n",
        "      <td>...</td>\n",
        "      <td>NaN</td>\n",
        "      <td> Urs Hoelzle</td>\n",
        "      <td> urs</td>\n",
        "      <td> 733</td>\n",
        "      <td> 3</td>\n",
        "      <td> 3</td>\n",
        "      <td> 3</td>\n",
        "      <td> 2014</td>\n",
        "      <td> 2014-01</td>\n",
        "      <td> 2014-Q1</td>\n",
        "    </tr>\n",
        "    <tr>\n",
        "      <th>1</th>\n",
        "      <td> Design Services and Manufacturing Agreement</td>\n",
        "      <td>        NaN</td>\n",
        "      <td>        NaN</td>\n",
        "      <td> Google Fiber Supply Chain Operations</td>\n",
        "      <td> United States</td>\n",
        "      <td> 2014-01-13 16:23:49</td>\n",
        "      <td> 2014-01-13</td>\n",
        "      <td> 0</td>\n",
        "      <td> 1</td>\n",
        "      <td> 14</td>\n",
        "      <td>...</td>\n",
        "      <td>NaN</td>\n",
        "      <td> Urs Hoelzle</td>\n",
        "      <td> urs</td>\n",
        "      <td> 733</td>\n",
        "      <td> 3</td>\n",
        "      <td> 3</td>\n",
        "      <td> 3</td>\n",
        "      <td> 2014</td>\n",
        "      <td> 2014-01</td>\n",
        "      <td> 2014-Q1</td>\n",
        "    </tr>\n",
        "  </tbody>\n",
        "</table>\n",
        "<p>2 rows \u00d7 53 columns</p>\n",
        "</div>"
       ],
       "metadata": {},
       "output_type": "pyout",
       "prompt_number": 31,
       "text": [
        "                                agreement_type completion_date  \\\n",
        "0                    Internal Software/Systems      2014-01-14   \n",
        "1  Design Services and Manufacturing Agreement             NaN   \n",
        "\n",
        "  completion_date_part                           cost_center        country  \\\n",
        "0           2014-01-14          Eng  Infrastructure Security  United States   \n",
        "1                  NaN  Google Fiber Supply Chain Operations  United States   \n",
        "\n",
        "          created_date created_date_part  current_quarter_flag  \\\n",
        "0  2014-01-14 15:17:08        2014-01-14                     0   \n",
        "1  2014-01-13 16:23:49        2014-01-13                     0   \n",
        "\n",
        "   current_year_flag  day_of_month      ...       service_type           vp  \\\n",
        "0                  1            14      ...                NaN  Urs Hoelzle   \n",
        "1                  1            14      ...                NaN  Urs Hoelzle   \n",
        "\n",
        "   vp_ldap  week_id week_of_month week_of_quarter week_of_year  year  \\\n",
        "0      urs      733             3               3            3  2014   \n",
        "1      urs      733             3               3            3  2014   \n",
        "\n",
        "   year_month  year_quarter  \n",
        "0     2014-01       2014-Q1  \n",
        "1     2014-01       2014-Q1  \n",
        "\n",
        "[2 rows x 53 columns]"
       ]
      }
     ],
     "prompt_number": 31
    },
    {
     "cell_type": "markdown",
     "metadata": {},
     "source": [
      "In this case I'm interested in looking at the dataframe when it has an index... That is, something I can use to select a row and get data back with. I'll set it to be the MISC matter ID"
     ]
    },
    {
     "cell_type": "code",
     "collapsed": false,
     "input": [
      "df_misc_index = df.set_index('misc_matter_id')"
     ],
     "language": "python",
     "metadata": {},
     "outputs": [],
     "prompt_number": 42
    },
    {
     "cell_type": "code",
     "collapsed": false,
     "input": [],
     "language": "python",
     "metadata": {},
     "outputs": [
      {
       "metadata": {},
       "output_type": "pyout",
       "prompt_number": 41,
       "text": [
        "agreement_type                        Design Services and Manufacturing Agreement\n",
        "completion_date                                                               NaN\n",
        "completion_date_part                                                          NaN\n",
        "cost_center                                  Google Fiber Supply Chain Operations\n",
        "country                                                             United States\n",
        "created_date                                                  2014-01-13 16:23:49\n",
        "created_date_part                                                      2014-01-13\n",
        "current_quarter_flag                                                            0\n",
        "current_year_flag                                                               1\n",
        "day_of_month                                                                   14\n",
        "day_of_quarter                                                                 14\n",
        "day_of_week                                                                     3\n",
        "day_of_year                                                                    14\n",
        "deal_group                                                                    NaN\n",
        "department                                                                Finance\n",
        "entity_type                                                                  MISC\n",
        "first_assigned_date                                           2014-01-14 07:58:51\n",
        "first_assigned_date_part                                               2014-01-14\n",
        "first_assignment_duration                                                       1\n",
        "first_assignment_weekenddays                                                    0\n",
        "l_team                                                              Sundar Pichai\n",
        "l_team_ldap                                                                sundar\n",
        "legal_entity_name                                                             NaN\n",
        "legal_group                                              Technical Infrastructure\n",
        "legal_manager_chain             |joshdavidson|zane|jhaniger|kwalker|ddrummond|...\n",
        "legal_team                                                               PandA-NA\n",
        "legal_team_member                                                   Josh Davidson\n",
        "legal_team_member_ldap                                               joshdavidson\n",
        "manager                                                             John Oberstar\n",
        "manager_ldap                                                             oberstar\n",
        "matter_status                                                   Assigned to Legal\n",
        "matter_type                                                                   NEW\n",
        "partner_name                                                                  IBM\n",
        "post_sales_status                                                             NaN\n",
        "pre_sales_status                                                              NaN\n",
        "product_area                                          Infrastructure - Operations\n",
        "project_name                                                                 CGR4\n",
        "quarter_of_year                                                                 1\n",
        "region                                                                        NaN\n",
        "requester                                                         Gautam Inaganti\n",
        "requester_ldap                                                          ginaganti\n",
        "service_group                                                                 NaN\n",
        "service_type                                                                  NaN\n",
        "vp                                                                    Urs Hoelzle\n",
        "vp_ldap                                                                       urs\n",
        "week_id                                                                       733\n",
        "week_of_month                                                                   3\n",
        "week_of_quarter                                                                 3\n",
        "week_of_year                                                                    3\n",
        "year                                                                         2014\n",
        "year_month                                                                2014-01\n",
        "year_quarter                                                              2014-Q1\n",
        "Name: 384782, Length: 52, dtype: object"
       ]
      }
     ],
     "prompt_number": 41
    },
    {
     "cell_type": "code",
     "collapsed": false,
     "input": [],
     "language": "python",
     "metadata": {},
     "outputs": []
    }
   ],
   "metadata": {}
  }
 ]
}